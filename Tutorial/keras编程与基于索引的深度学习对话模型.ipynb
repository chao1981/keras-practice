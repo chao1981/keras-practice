{
 "cells": [
  {
   "cell_type": "markdown",
   "metadata": {},
   "source": [
    "# keras里文字的操作和基于深度学习的对话模型"
   ]
  },
  {
   "cell_type": "markdown",
   "metadata": {},
   "source": [
    "在本节，我们主要讨论以下几个话题：\n",
    "1. keras的一些基本和进阶的操作。这是考虑到这门课之前并没有系统给大家介绍keras这个建模环境，因此为了以后学习的需要，有必要快速讲解一下基本操作和对模型对象的处理；这里会占用大约25分钟的时间\n",
    "2. 在基本操作之外，我们会进一步详细讲解keras里对于文字信息的操作；这里也会占用大约25分钟的时间。\n",
    "3. 最后，我们会介绍深度学习对话模型中的一个重要模型：双编码长短记忆神经网络模型（Dual Encoder LSTM NN）。在标准的模型之外我们会运用现在的一些技术，比如Attention Mechanism，Intention Mechanism等对其进行改造。这里会使用大约60分钟时间。\n"
   ]
  },
  {
   "cell_type": "markdown",
   "metadata": {},
   "source": [
    "## keras中的一些有用概念和操作。\n",
    "\n",
    "keras中，神经网络被模块化为各种组件，包括模型中的网络层，各种激活函数，正则化函数，优化引擎和损失函数等。\n",
    "\n",
    "我们知道，如果要建立一个深度神经网络，最基本的要素是以下几个，其他的可以作为进一步定制的选项：\n",
    "1. 输入数据的维度；\n",
    "2. 模型的类型；\n",
    "3. 模型中的各个网络层的类型；\n",
    "4. 激活函数类型；\n",
    "5. 训练模型使用的损失函数和优化引擎；\n",
    "\n",
    "假如我们要对下图中这个神经网络建模：\n",
    "\n",
    "![多层感知器](./images/stdMLP.png)\n",
    "\n",
    "对照上面的要求，我们可如下以设定：\n",
    "1. 输入数据的维度为（8,），即每个样本是一个8个元素的向量；\n",
    "2. 模型从左到右依次操作，因此属于顺序模型：Sequential；\n",
    "3. 模型中每个网络层的所有神经元都和下一个网络层的任意神经元相连，因此是一个全连接层：Dense；\n",
    "4. 激活函数这里没有指明。在keras中缺省的激活函数是线性激活函数，一般只用在回归问题的最后一层，因此这里我们可以指明为其他非线性的激活函数；\n",
    "5. 因为输出是一个向量，因此很可能是一个多分类模型，从而损失函数需要使用categorical_crossentropy或者categorical_hinge；优化引擎可以酌情选择；\n",
    "\n",
    "这个模型可以非常容易地翻译为如下的keras代码：\n",
    "<code>\n",
    "model = Sequential()\n",
    "model.add(Dense(10, activation='relu', input_shape=(8,)))\n",
    "model.add(Dense(8, activation='relu'))\n",
    "model.add(Dense(10, activation='relu'))\n",
    "model.add(Dense(5, activation='softmax'))\n",
    "model.compile(optimizer='rmsprop',\n",
    "              loss='categorical_crossentropy',\n",
    "              metrics=['accuracy'])\n",
    "</code>\n"
   ]
  },
  {
   "cell_type": "markdown",
   "metadata": {},
   "source": [
    "## 合并神经网络\n",
    "\n",
    "一个顺序神经网络模型在keras里非常容易构造。但是一些比较复杂的结构怎么办呢？在keras中也定义了如何来合并两个或者多个神经网络的方法，包括Add, Dot, Multiply, Concate等。\n",
    "\n",
    "我们看下面这个简化版的深度推荐系统：\n",
    "\n",
    "![deep Recommendation System](./images/deepRecSys.png)\n",
    "\n",
    "这里两个不同的嵌入层会以矩阵相乘（Dot）的方法合并到一起。这种模型一般都直接申明为一个泛化模型（Model）对象：\n",
    "\n",
    "<code>\n",
    "user_in  =Input(shape=(1, ), dtype='int64', name='user_in')\n",
    "u = Embedding(n_users, n_factors, input_length=1)(user_in)\n",
    "\n",
    "movie_in = Input(shape=(1, ), dtype='int64', name='movie_in')\n",
    "v = Embedding(n_movies, n_factors, input_length=1)(movie_in)\n",
    "\n",
    "x = Dot([1, 1])([u, v])\n",
    "x = Flatten()(x)\n",
    "\n",
    "model = Model(inputs = [user_in, movie_in], outputs = x)\n",
    "model.compile(loss=\"mse\", optimizer=\"Adam\")\n",
    "</code>"
   ]
  },
  {
   "cell_type": "markdown",
   "metadata": {},
   "source": [
    "## model对象的操作\n",
    "\n",
    "keras的模型对象包含非常丰富的特性和方法可以对训练后的模型中的各种元素进行操作，比如：\n",
    "- 抽取模型层\n",
    "- 抽取各层的权重和名称\n",
    "- 定义各层是否可以被新数据训练\n",
    "- 使用后台函数对各层的输入输出进行定制计算等\n",
    "\n",
    "我们下面来针对以上操作讲解一下。\n",
    "\n",
    "### 抽取模型层\n",
    "\n",
    "keras的模型包含多个属性可以进行引用。假设我们已经有了一个模型，被称为model，这个模型不一定需要被训练，因为在编译模型的时候，每一层的权重都会根据一个随机函数进行初始化。这里我们暂时不详细讨论初始化的细节。\n",
    "\n",
    "model里可以抽取以下各项特性：\n",
    "\n",
    "- model.layers\n",
    "- model.trainable_weights\n",
    "- model.weights\n",
    "\n",
    "下面一节我们通过一个使用keras展示激活函数几何特性的方式来学习这些操作。\n",
    "\n",
    "神经网络之所以强大，与其采用非线性的激活函数不无关系。在这里，我们试图通过运用keras来展示和分析激活函数从而让同学们同时了解keras的一些奇妙用法。\n",
    "1. 首先，我们采用keras来生成不同激活函数的表达，并以图形的形式展示出来。\n",
    "2. 然后，我们通过分析keras的源代码来演示如何生成自己自定义的激活函数。\n"
   ]
  },
  {
   "cell_type": "code",
   "execution_count": 1,
   "metadata": {},
   "outputs": [
    {
     "name": "stderr",
     "output_type": "stream",
     "text": [
      "Using TensorFlow backend.\n"
     ]
    }
   ],
   "source": [
    "%matplotlib inline\n",
    "\n",
    "import pandas as pd\n",
    "import numpy as np\n",
    "import gc\n",
    "from keras.layers import Dense, Activation\n",
    "from keras.models import Sequential\n",
    "\n",
    "import matplotlib.pyplot as plt\n",
    "plt.rcParams['figure.figsize']=(16, 10)"
   ]
  },
  {
   "cell_type": "code",
   "execution_count": 2,
   "metadata": {},
   "outputs": [
    {
     "name": "stdout",
     "output_type": "stream",
     "text": [
      "_________________________________________________________________\n",
      "Layer (type)                 Output Shape              Param #   \n",
      "=================================================================\n",
      "dense_1 (Dense)              (None, 1)                 2         \n",
      "_________________________________________________________________\n",
      "dense_2 (Dense)              (None, 1)                 2         \n",
      "=================================================================\n",
      "Total params: 4\n",
      "Trainable params: 4\n",
      "Non-trainable params: 0\n",
      "_________________________________________________________________\n",
      "Epoch 1/1\n",
      "200/200 [==============================] - 1s 4ms/step - loss: 0.4510 - mean_absolute_error: 0.4510\n"
     ]
    },
    {
     "data": {
      "text/plain": [
       "<keras.callbacks.History at 0x28b75cd3a20>"
      ]
     },
     "execution_count": 2,
     "metadata": {},
     "output_type": "execute_result"
    }
   ],
   "source": [
    "x = (np.arange(200)-100)/100\n",
    "y = -np.log(x+101/100)\n",
    "\n",
    "model = Sequential()\n",
    "model.add(Dense(1, input_shape=(1,), activation='relu'))\n",
    "model.add(Dense(1, activation='linear'))\n",
    "model.summary()\n",
    "model.compile(loss='mae', optimizer='adam', metrics=['mae'])\n",
    "model.fit(x, x, epochs=1, batch_size=128, verbose=1)"
   ]
  },
  {
   "cell_type": "code",
   "execution_count": 3,
   "metadata": {},
   "outputs": [
    {
     "data": {
      "image/png": "[encoded data removed]",
      "text/plain": [
       "<matplotlib.figure.Figure at 0x28b7fc1aeb8>"
      ]
     },
     "metadata": {},
     "output_type": "display_data"
    }
   ],
   "source": [
    "from keras import backend as K\n",
    "\n",
    "inp = model.input                                           # 输入\n",
    "outputs = [layer.output for layer in model.layers]          # 抓取各个网络层，实际这里最关键的只有激活层\n",
    "functions = [K.function([inp], [out]) for out in outputs]    # K.function()使用tenforflow后台初始化一个计算函数\n",
    "\n",
    "# 验证结果\n",
    "activationLayer={}\n",
    "for i in range(x.shape[0]):\n",
    "    test = x[i].reshape(-1, 1)\n",
    "    layer_outs = [func([test]) for func in functions]\n",
    "    activationLayer[i] = layer_outs[0][0][0][0]\n",
    "    \n",
    "activationDf = pd.DataFrame.from_dict(activationLayer, orient='index')\n",
    "plt.plot(x, activationDf)   \n",
    "plt.show()"
   ]
  },
  {
   "cell_type": "code",
   "execution_count": 4,
   "metadata": {
    "collapsed": true
   },
   "outputs": [],
   "source": [
    "def NNmodel(activationFunc='linear'):\n",
    "    '''\n",
    "       定义一个神经网络模型。如果要定义不同的模型，可以直接修改该函数\n",
    "    '''\n",
    "    model = Sequential()\n",
    "    model.add(Dense(1, input_shape=(1,), activation=activationFunc))\n",
    "        \n",
    "    model.add(Dense(1, activation='linear'))\n",
    "    #model.summary()\n",
    "    model.compile(loss='mse', optimizer='adagrad', metrics=['mse'])\n",
    "    return model\n",
    "\n",
    "def VisualActivation(activationFunc='relu', plot=True):    \n",
    "    x = (np.arange(100)-50)/10\n",
    "    y = np.log(x+51/10)\n",
    "    \n",
    "    model = NNmodel(activationFunc = activationFunc)\n",
    "    model.fit(x, x, epochs=1, batch_size=128, verbose=0)\n",
    "    \n",
    "    inX = model.input                                          \n",
    "    outputs = [layer.output for layer in model.layers]     \n",
    "    functions = [K.function([inX], [out]) for out in outputs]   \n",
    "    \n",
    "    activationLayer={}\n",
    "    for i in range(100):\n",
    "        test = x[i].reshape(-1, 1)\n",
    "        layer_outs = [func([test]) for func in functions]\n",
    "        activationLayer[i] = layer_outs[0][0][0][0]\n",
    "        \n",
    "    activationDf = pd.DataFrame.from_dict(activationLayer, orient='index')\n",
    "    result=pd.concat([pd.DataFrame(x), activationDf], axis=1)\n",
    "    result.columns=['X', 'Activated']\n",
    "    result.set_index('X', inplace=True)\n",
    "    if plot:\n",
    "        result.plot(title=f)\n",
    "    \n",
    "    return result\n"
   ]
  },
  {
   "cell_type": "code",
   "execution_count": 5,
   "metadata": {},
   "outputs": [
    {
     "data": {
      "image/png": "[encoded data removed]",
      "text/plain": [
       "<matplotlib.figure.Figure at 0x28cc2cfb828>"
      ]
     },
     "metadata": {},
     "output_type": "display_data"
    }
   ],
   "source": [
    "actFuncs = ['sigmoid', 'tanh', 'hard_sigmoid', 'softplus', 'selu', 'elu']\n",
    "\n",
    "from keras.layers import LeakyReLU\n",
    "figure = plt.figure()\n",
    "for i, f in enumerate(actFuncs):\n",
    "    # 依次画图\n",
    "    figure.add_subplot(3, 2, i+1)\n",
    "    out=VisualActivation(activationFunc=f, plot=False)\n",
    "    plt.plot(out.index, out.Activated)\n",
    "    plt.title(f)\n"
   ]
  },
  {
   "cell_type": "markdown",
   "metadata": {},
   "source": [
    "从上面的操作我们可以学习到以下知识点：\n",
    "1. 一个模型就是一个对象，其包含多个属性可供分析师抽取，进行进一步的分析和操作，比如抽取权重画图；\n",
    "2. 可以通过后台函数K.function()来定义对输入数据在每一层进行计算，从而可以进一步分析每一步的运算特性；\n",
    "3. 中间层计算结果输出是一个列表，因此非常容易查看输出的结构，并进行相应的操作；"
   ]
  },
  {
   "cell_type": "markdown",
   "metadata": {},
   "source": [
    "## keras里对文字的操作\n",
    "\n",
    "下面我们专门针对文字信息考察keras里面提供的操作。\n",
    "\n",
    "文本数据的处理主要是在解析和标注上，根据需要操作的对象不同，方法也有不同。这里我们按照文字分为英文和中文两种；同时按照输入数据是单一文件还是多个文件分为两种情况。因为这两类情景相互独立，因此我们分别介绍。\n",
    "\n",
    "首先我们介绍英文单一文本的处理。对于英文的单一文本列表，keras提供了text_to_word_sequence这个函数，可以将字符串类型一句话分裂为单词。听起来简单，但是在实际操作中有很多选项会产生完全不同的结果。下面演示一下。\n",
    "\n",
    "我们先调入所需的库。"
   ]
  },
  {
   "cell_type": "code",
   "execution_count": 6,
   "metadata": {
    "collapsed": true
   },
   "outputs": [],
   "source": [
    "import os, gc, sys\n",
    "import keras\n",
    "from keras.preprocessing import text\n",
    "from keras import utils"
   ]
  },
  {
   "cell_type": "code",
   "execution_count": 7,
   "metadata": {},
   "outputs": [
    {
     "name": "stdout",
     "output_type": "stream",
     "text": [
      "['ker', 's', 'is', 'high-level', 'neur', 'l', 'networks', 'pi,', 'written', 'in', 'python', 'nd', 'c', 'p', 'ble', 'of', 'running', 'on', 'top', 'of', 'tensorflow,', 'cntk,', 'or', 'the', 'no.']\n"
     ]
    }
   ],
   "source": [
    "input=\"Keras is a high-level neural networks API, written in Python and capable of running on top of TensorFlow, \\\n",
    "       CNTK, or Theano.\"\n",
    "filters='!\"#$%&()*+,-./:;<=>?@[\\\\]^_`{|}~\\t\\n'\n",
    "result = text.text_to_word_sequence(input,\n",
    "                                    filters='a',\n",
    "                                    lower=True,\n",
    "                                    split=\" \")\n",
    "print(result)"
   ]
  },
  {
   "cell_type": "markdown",
   "metadata": {},
   "source": [
    "这个方法里，lower选项就是指将输入的字符转换成小写字符处理并输出，只对英文有效。这里需要详细讲讲filters和split这两个选项：\n",
    "- filters 这个选项对一个列表里的字符进行过滤，就是在这个列表里的字符都会被过滤掉。这里中英文字符都可以放入过滤字符列表中起作用，下面的例子做了展示；\n",
    "- split 这个选项对句子的解析至关重要。输入要求是一个字符串，这个方法使用该字符串对输入的长字符串进行切分。在英文中使用空格符就好，但是在中文这种没有分隔符的语言中就不行，需要使用中文的专用切分工具，比如jieba等来处理。同学们也可以先使用该方法的过滤器对中英文字符进行过滤后再应用jieba分词工具。\n",
    "\n",
    "在Anaconda环境下安装jieba，特别是在Python3的环境下安装jieba3k这个针对Python 3.x环境的分词包，可以使用如下命令：\n",
    "<code>\n",
    "conda install -c conda-forge jieba3k \n",
    "</code>"
   ]
  },
  {
   "cell_type": "code",
   "execution_count": 8,
   "metadata": {},
   "outputs": [
    {
     "name": "stdout",
     "output_type": "stream",
     "text": [
      "['eras是一个高度抽象的神经网络', '，以', 'ython写成，可以', 'ensor', 'low，', '或者', 'heano为计算后台运']\n"
     ]
    }
   ],
   "source": [
    "input=\"Keras是一个高度抽象的神经网络API，以Python写成，可以TensorFlow，CNTK或者Theano为计算后台运行\"\n",
    "filters='!\"#$%&()*+,-./:;<=>?@[\\\\]^_`{|}~\\t\\nABCDEFGHIJKLMENOPQRSTUVWXYZ行'\n",
    "result = text.text_to_word_sequence(input,\n",
    "                                    filters=filters,\n",
    "                                    lower=False,\n",
    "                                    split=\",\")\n",
    "print(result)"
   ]
  },
  {
   "cell_type": "markdown",
   "metadata": {},
   "source": [
    "可以看到keras的工具是为英文设计的，不能正常解析中文文本。这里我们简要介绍如何使用结巴分词来进行操作。\n",
    "\n",
    "根据jieba分词库的自我介绍，其支持三种分词模式：\n",
    "- 精确模式，试图将句子最精确地切开，适合文本分析，也是最常用的。该模式对应jieba.cut方法，使用cut_all=False选项\n",
    "- 全模式，把句子中所有的可以成词的词语都扫描出来, 速度非常快而且颗粒度非常高，但是不能解决歧义，比如“...川普通过...”会被切分为“川普”，“普通”等多个词，但是这里实际上只有“川普”这个词有意义。该模式也对应jieba.cut方法，使用cut_all=True选项\n",
    "- 搜索引擎模式，在精确模式的基础上，对长词再次切分，提高召回率，适合用于搜索引擎分词。该模式对应jieba.cut_for_search方法。\n",
    "\n",
    "在jieba3k中，以上两种方法都返回一个可迭代的生成器（generator）对象，可以使用for 循环来获取分割后的单词。\n",
    "\n",
    "在老版本的jieba.cut和jieba.cut_for_search各自对应一个返回列表的函数，分别是lcut 和lcut_for_search，其用法一样，只是返回数据类型是一个列表，但是在jieba3k中似乎没有这些方法了。"
   ]
  },
  {
   "cell_type": "code",
   "execution_count": 9,
   "metadata": {
    "collapsed": true
   },
   "outputs": [],
   "source": [
    "import jieba"
   ]
  },
  {
   "cell_type": "code",
   "execution_count": 10,
   "metadata": {},
   "outputs": [
    {
     "name": "stderr",
     "output_type": "stream",
     "text": [
      "Building prefix dict from D:\\Anaconda3\\lib\\site-packages\\jieba\\dict.txt ...\n",
      "Loading model from cache C:\\Users\\xieliang\\AppData\\Local\\Temp\\jieba.cache\n",
      "Loading model cost 0.8951783180236816 seconds.\n",
      "Prefix dict has been built succesfully.\n"
     ]
    },
    {
     "name": "stdout",
     "output_type": "stream",
     "text": [
      "248 ['此', '开卷', '第一回', '也', '。', '作者', '自云', '：', '因曾', '历过', '一番', '梦幻', '之后', '，', '故']\n",
      "361 ['此', '开卷', '第一', '第一回', '一回', '也', '', '', '作者', '自', '云', '', '', '因', '曾', '历', '过', '一番', '梦幻', '之后', '', '', '故', '将', '真事']\n",
      "361 ['', '', '之说', '', '', '撰', '此', '', '', '石头', '石头记', '', '', '一', '书']\n",
      "361 ['', '', '之说', '', '', '撰', '此', '', '', '石头', '石头记', '', '', '一', '书']\n"
     ]
    }
   ],
   "source": [
    "chn='此开卷第一回也。作者自云：因曾历过一番梦幻之后，故将真事隐去，而借\"通灵 \\\n",
    "\"之说，撰此《石头记》一书也。故曰\"甄士隐\"云云．但书中所记何事何人？自又 \\\n",
    "云：“今风尘碌碌，一事无成，忽念及当日所有之女子，一一细考较去，觉其行止见 \\\n",
    "识，皆出于我之上．何我堂堂须眉，诚不若彼裙钗哉？实愧则有余，悔又无益之大无可 \\\n",
    "如何之日也！当此，则自欲将已往所赖天恩祖德，锦衣纨绔之时，饫甘餍肥之日，背父 \\\n",
    "兄教育之恩，负师友规谈之德，以至今日一技无成，半生潦倒之罪，编述一集，以告天 \\\n",
    "下人：我之罪固不免，然闺阁中本自历历有人，万不可因我之不肖，自护己短，一并使 \\\n",
    "其泯灭也．虽今日之茅椽蓬牖，瓦灶绳床，其晨夕风露，阶柳庭花，亦未有妨我之襟怀 \\\n",
    "笔墨者．虽我未学，下笔无文，又何妨用假语村言，敷演出一段故事来，亦可使闺阁昭 \\\n",
    "传，复可悦世之目，破人愁闷，不亦宜乎？故曰\"贾雨村\"云云。'\n",
    "\n",
    "chnout1 = jieba.cut(chn, cut_all=False)\n",
    "chnoutlist1 = [x for x in chnout1]\n",
    "print(len(chnoutlist1), [x for x in chnoutlist1[:15]])\n",
    "\n",
    "chnout2 = jieba.cut(chn, cut_all=True)\n",
    "chnoutlist2 = [x for x in chnout2]\n",
    "print(len(chnoutlist2), [x for x in chnoutlist2[:25]])\n",
    "\n",
    "chnout3 = jieba.cut(chn, cut_all=True, HMM=True)\n",
    "chnoutlist3 = [x for x in chnout3]\n",
    "print(len(chnoutlist3), [x for x in chnoutlist3[35:50]])\n",
    "\n",
    "chnout4 = jieba.cut_for_search(chn, HMM=False)\n",
    "chnoutlist4 = [x for x in chnout4]\n",
    "print(len(chnoutlist3), [x for x in chnoutlist3[35:50]])"
   ]
  },
  {
   "cell_type": "markdown",
   "metadata": {},
   "source": [
    "对于大批量的文本文件，当需要同意进行处理的时候，keras提供了一个非常方便的类称为：Tokenizer，可以对多个文档以列表元素形式存在的对象进行统一操作。这个方法一般应用在一次性批量读入多个文本文件以后，提供的方法有：\n",
    "- fit_on_texts(texts)。该方法对于一个文本列表进行拟合，拟合的目的是为了获得以下的关键统计量：\n",
    "- texts_to_sequences(texts)，同时有个与生成器对象对应的texts_to_sequences_generator(texts)方法，该方法将文本列表数据转化为以单词索引下标为元素的列表，从而才能供之后的数据建模使用。\n",
    "- texts_to_matrix(texts)，与上面的方法类似，只是生成数据直接就是一个按照单词索引下标构造的巨大的矩阵\n",
    "- fit_on_sequences(sequences)\n",
    "- sequences_to_matrix(sequences)\n",
    "\n",
    "下面我们来看看实例，该实例来自于keras的官方博客，但是我将一些不是重点的查错逻辑删掉，这样能更容易看清其处理步骤和逻辑。"
   ]
  },
  {
   "cell_type": "code",
   "execution_count": 11,
   "metadata": {},
   "outputs": [
    {
     "name": "stdout",
     "output_type": "stream",
     "text": [
      "Found 19997 texts in 20 categories\n",
      "Wall time: 1.84 s\n"
     ]
    }
   ],
   "source": [
    "%%time\n",
    "\n",
    "TEXT_DATA_DIR = './data/20_newsgroup'\n",
    "texts = []  # 用于存储文本的列表\n",
    "labels_index = {}  # 子目录列表词典，因为每个子目录都是一类对应的文字，所以被称为label\n",
    "labels = []  # list of label ids\n",
    "for name in sorted(os.listdir(TEXT_DATA_DIR)):  # 按照路径名排序读入文件夹下的所有子目录\n",
    "    path = os.path.join(TEXT_DATA_DIR, name)    # 构造完整的路径名\n",
    "    label_id = len(labels_index)\n",
    "    labels_index[name] = label_id\n",
    "    for fname in sorted(os.listdir(path)):   #按照文件名依次读入文件夹下所有文本文件\n",
    "        fpath = os.path.join(path, fname) # 构造完整文件路径名\n",
    "        f = open(fpath, encoding='latin-1')\n",
    "        t = f.read()                      # 一次性读入整个文本文件\n",
    "        i = t.find('\\n\\n')  # 跳过文件头\n",
    "        if i > 0:\n",
    "            t = t[i:]\n",
    "        texts.append(t)\n",
    "        f.close()\n",
    "        labels.append(label_id)\n",
    "\n",
    "print('Found %s texts in %s categories' % (len(texts), len(labels_index)))"
   ]
  },
  {
   "cell_type": "markdown",
   "metadata": {},
   "source": [
    "来看看每篇文章的字数长度："
   ]
  },
  {
   "cell_type": "code",
   "execution_count": 12,
   "metadata": {},
   "outputs": [
    {
     "data": {
      "image/png": "[encoded data removed]",
      "text/plain": [
       "<matplotlib.figure.Figure at 0x28cdda98d68>"
      ]
     },
     "metadata": {},
     "output_type": "display_data"
    }
   ],
   "source": [
    "textsLength = list(map(len, texts))\n",
    "plt.hist(np.log10(textsLength), bins=20)\n",
    "# pyplot里似乎对中文支持不好\n",
    "plt.title(\"Distribution of number of words in a Text\")\n",
    "plt.show()"
   ]
  },
  {
   "cell_type": "code",
   "execution_count": 13,
   "metadata": {
    "collapsed": true
   },
   "outputs": [],
   "source": [
    "MAX_NB_WORDS= None # 该选项如果设定为一个整数，那么Tokenizer只输出前N个最常见的单词的相关信息，如果是None则对所有单词进行处理\n",
    "MAX_SEQUENCE_LENGTH = 50  #最长句子长度，可以为中位值或者其他合适的值。\n",
    "\n",
    "tokenizer = text.Tokenizer(num_words=MAX_NB_WORDS)\n",
    "tokenizer.fit_on_texts(texts)\n",
    "sequences = tokenizer.texts_to_sequences(texts)"
   ]
  },
  {
   "cell_type": "code",
   "execution_count": 14,
   "metadata": {},
   "outputs": [
    {
     "name": "stdout",
     "output_type": "stream",
     "text": [
      "19997\n",
      "[1237, 273, 1213, 3140, 1071, 1213, 1237, 273, 3140, 192]\n",
      "[6, 54, 84488, 10754, 1731, 26, 8090, 201, 1731, 26]\n",
      "[19952, 19953, 13458, 26, 421, 2505, 670, 13139, 22, 13139]\n"
     ]
    }
   ],
   "source": [
    "print(len(sequences))\n",
    "for j in range(3):\n",
    "    print(sequences[j+1][:10])"
   ]
  },
  {
   "cell_type": "code",
   "execution_count": 15,
   "metadata": {},
   "outputs": [
    {
     "name": "stdout",
     "output_type": "stream",
     "text": [
      "(19997, 174075)\n",
      "Wall time: 4.93 s\n"
     ]
    }
   ],
   "source": [
    "%%time\n",
    "textsMatrix = tokenizer.texts_to_matrix(texts)\n",
    "print(textsMatrix.shape)"
   ]
  },
  {
   "cell_type": "code",
   "execution_count": 16,
   "metadata": {
    "collapsed": true
   },
   "outputs": [],
   "source": [
    "textsMatrix.dtype\n",
    "del(textsMatrix)"
   ]
  },
  {
   "cell_type": "markdown",
   "metadata": {},
   "source": [
    "但是对于中文，这个标注类就没有那么方便了，因为其文本解析是针对英文来的，对于中文依旧无法进行正确的分词。这时候需要采用jieba分词先进行分词，在自行构造索引，我们可以仿造标注类里面的函数依样画葫芦，构造自己的中文标注类。主要差别是在读入每一份文本之后，使用结巴分词进行分词，而不是按照空格符进行分词，分词之后，其他的操作就可以依照标注类的动作进行了。"
   ]
  },
  {
   "cell_type": "markdown",
   "metadata": {},
   "source": [
    "### 小结\n",
    "\n",
    "以上的讲解都说明，学习一种编程工具的最好办法就是看源代码，并尝试改进。"
   ]
  },
  {
   "cell_type": "markdown",
   "metadata": {},
   "source": [
    "## 基于深度学习的双编码长短记忆对话模型"
   ]
  },
  {
   "cell_type": "markdown",
   "metadata": {},
   "source": [
    "下一节里我们将构造双编码长短记忆（Dual Encoder LSTM）对话模型，并且引入attention以及bidirectional LSTM来改造原有的模型。\n",
    "\n",
    "双编码长短记忆模型是一种被证明比较有效的进行对话建模的模型，被成功应用在Ubuntu对话集$^{[1]}$，保险问答对话集$^{[2]}$等。"
   ]
  },
  {
   "cell_type": "markdown",
   "metadata": {},
   "source": [
    "### Embedding 嵌入\n",
    "\n",
    "在几乎所有的文字建模中，都会用到嵌入这种技术（Embedding）。一般keras用户会直接使用嵌入层 Embedding()对输入的标注后文本索引数据进行映射。但是embedding层几乎肯定的是使用预先训练好的word2vec或者GloVe模型的权重，这并不一定适合当前的环境，尤其是建模对象为中文的时候。这时需要自己构造自己的嵌入权重。我在这里只会简单介绍一下如何运用wiki中文的语料库通过gensim这个库构造自己的嵌入权重，同学们可以自己试试不同的语料库来感受一下。\n",
    "\n",
    "无论是中文还是英文，wiki dump的文件都是bz2格式，需要先通过**gensim**的WikiCorpus函数来抽取。下面是英文版本，中文的样例是一样的，只是作用的文本数据不一样，但是大家可以看看不同的写法。该步骤耗时较长。"
   ]
  },
  {
   "cell_type": "code",
   "execution_count": 17,
   "metadata": {},
   "outputs": [
    {
     "name": "stderr",
     "output_type": "stream",
     "text": [
      "D:\\Anaconda3\\lib\\site-packages\\gensim\\utils.py:860: UserWarning: detected Windows; aliasing chunkize to chunkize_serial\n",
      "  warnings.warn(\"detected Windows; aliasing chunkize to chunkize_serial\")\n"
     ]
    }
   ],
   "source": [
    "import multiprocessing\n",
    "import sys, os, logging, codecs\n",
    "import gensim\n",
    "from gensim.corpora.wikicorpus import WikiCorpus\n",
    "from gensim.models.word2vec import Word2Vec, LineSentence"
   ]
  },
  {
   "cell_type": "code",
   "execution_count": 18,
   "metadata": {},
   "outputs": [
    {
     "name": "stdout",
     "output_type": "stream",
     "text": [
      "Finishing extractoing texts...\n",
      "Finishing building word2vec model using English Wiki....\n"
     ]
    }
   ],
   "source": [
    "wiki = WikiCorpus('./data/enwiki-latest-pages-articles.xml.bz2', \n",
    "                  lemmatize=False, dictionary={})\n",
    "#sentences = list(wiki.get_texts())\n",
    "output = open('./data/en_wiki.text', 'w', encoding='utf-8')\n",
    "for text in wiki.get_texts():\n",
    "    output.write(\" \".join(text) + '\\n')\n",
    "output.close()\n",
    "del(wiki)\n",
    "print(\"Finishing extractoing texts...\")\n",
    "# 现在建模\n",
    "infile = './data/en_wiki.text'\n",
    "params = {'size': 200, 'window': 5, 'min_count': 10, \n",
    "          'workers': multiprocessing.cpu_count(), 'sg': 1,\n",
    "          'sample': 1E-3,}\n",
    "word2vec = Word2Vec(LineSentence(infile), **params)\n",
    "print('Finishing building word2vec model using English Wiki....')"
   ]
  },
  {
   "cell_type": "code",
   "execution_count": 19,
   "metadata": {
    "collapsed": true
   },
   "outputs": [],
   "source": [
    "outfile = './data/enwiki.word2vec.model'\n",
    "word2vec.save(outfile)\n",
    "word2vec.wv.save_word2vec_format(outfile + '.vector', binary=False)"
   ]
  },
  {
   "cell_type": "code",
   "execution_count": 20,
   "metadata": {},
   "outputs": [
    {
     "data": {
      "text/plain": [
       "0"
      ]
     },
     "execution_count": 20,
     "metadata": {},
     "output_type": "execute_result"
    }
   ],
   "source": [
    "del(word2vec)\n",
    "gc.collect()"
   ]
  },
  {
   "cell_type": "markdown",
   "metadata": {},
   "source": [
    "模仿上面的代码，我们也可以训练自己的中文维基语料库构造自己的嵌入权重。下面这两段代码分别来由自于[这个网址](https://flystarhe.github.io/2016/09/04/word2vec-test/)和[这个网址](https://flystarhe.github.io/2016/08/31/wiki-corpus-zh/)的代码构造的。读者其实根据上面的英文维基处理代码也能写出一样的代码。\n",
    "\n",
    "首先从bz2文件中读出文本。"
   ]
  },
  {
   "cell_type": "code",
   "execution_count": 21,
   "metadata": {},
   "outputs": [
    {
     "name": "stderr",
     "output_type": "stream",
     "text": [
      "2017-12-21 11:48:08,369 : INFO : finished iterating over Wikipedia corpus of 280819 documents with 62921777 positions (total 2893828 articles, 75220572 positions before pruning articles shorter than 50 words)\n"
     ]
    }
   ],
   "source": [
    "\n",
    "#sys.setdefaultencoding('utf-8')\n",
    "logging.basicConfig(format='%(asctime)s : %(levelname)s : %(message)s', level=logging.INFO)\n",
    "infile = './data/zhwiki-latest-pages-articles.xml.bz2'\n",
    "outfile = './data/wikicn.text'\n",
    "\n",
    "wiki = WikiCorpus(infile, lemmatize=False, dictionary={})\n",
    "\n",
    "output = codecs.open(outfile, 'w', 'utf-8')\n",
    "for text in wiki.get_texts():\n",
    "    output.write(\" \".join(text) + '\\n')\n",
    "output.close()"
   ]
  },
  {
   "cell_type": "markdown",
   "metadata": {},
   "source": [
    "其次，我们可以使用gensim根据中文维基语料构造自己的映射权重。"
   ]
  },
  {
   "cell_type": "code",
   "execution_count": 22,
   "metadata": {},
   "outputs": [
    {
     "name": "stderr",
     "output_type": "stream",
     "text": [
      "2017-12-21 11:48:08,573 : INFO : collecting all words and their counts\n",
      "2017-12-21 11:48:08,573 : INFO : PROGRESS: at sentence #0, processed 0 words, keeping 0 word types\n",
      "2017-12-21 11:48:10,695 : INFO : PROGRESS: at sentence #10000, processed 4045155 words, keeping 2445673 word types\n",
      "2017-12-21 11:48:12,382 : INFO : PROGRESS: at sentence #20000, processed 7056276 words, keeping 4042878 word types\n",
      "2017-12-21 11:48:13,821 : INFO : PROGRESS: at sentence #30000, processed 9815770 words, keeping 5375232 word types\n",
      "2017-12-21 11:48:15,445 : INFO : PROGRESS: at sentence #40000, processed 12411710 words, keeping 6575971 word types\n",
      "2017-12-21 11:48:16,726 : INFO : PROGRESS: at sentence #50000, processed 14882639 words, keeping 7655482 word types\n",
      "2017-12-21 11:48:17,988 : INFO : PROGRESS: at sentence #60000, processed 17284347 words, keeping 8648957 word types\n",
      "2017-12-21 11:48:19,207 : INFO : PROGRESS: at sentence #70000, processed 19516570 words, keeping 9582049 word types\n",
      "2017-12-21 11:48:20,438 : INFO : PROGRESS: at sentence #80000, processed 21754375 words, keeping 10500692 word types\n",
      "2017-12-21 11:48:22,281 : INFO : PROGRESS: at sentence #90000, processed 23912541 words, keeping 11330121 word types\n",
      "2017-12-21 11:48:23,390 : INFO : PROGRESS: at sentence #100000, processed 26179370 words, keeping 12129787 word types\n",
      "2017-12-21 11:48:24,468 : INFO : PROGRESS: at sentence #110000, processed 28302613 words, keeping 12902826 word types\n",
      "2017-12-21 11:48:25,484 : INFO : PROGRESS: at sentence #120000, processed 30258532 words, keeping 13642976 word types\n",
      "2017-12-21 11:48:26,640 : INFO : PROGRESS: at sentence #130000, processed 32503354 words, keeping 14468206 word types\n",
      "2017-12-21 11:48:27,727 : INFO : PROGRESS: at sentence #140000, processed 34593389 words, keeping 15218454 word types\n",
      "2017-12-21 11:48:28,852 : INFO : PROGRESS: at sentence #150000, processed 36689049 words, keeping 15970587 word types\n",
      "2017-12-21 11:48:29,975 : INFO : PROGRESS: at sentence #160000, processed 38853860 words, keeping 16712356 word types\n",
      "2017-12-21 11:48:31,022 : INFO : PROGRESS: at sentence #170000, processed 41047771 words, keeping 17321616 word types\n",
      "2017-12-21 11:48:32,055 : INFO : PROGRESS: at sentence #180000, processed 43017102 words, keeping 17955120 word types\n",
      "2017-12-21 11:48:33,055 : INFO : PROGRESS: at sentence #190000, processed 44927787 words, keeping 18562926 word types\n",
      "2017-12-21 11:48:34,070 : INFO : PROGRESS: at sentence #200000, processed 46835551 words, keeping 19193797 word types\n",
      "2017-12-21 11:48:35,072 : INFO : PROGRESS: at sentence #210000, processed 48948852 words, keeping 19733139 word types\n",
      "2017-12-21 11:48:36,166 : INFO : PROGRESS: at sentence #220000, processed 50961384 words, keeping 20419468 word types\n",
      "2017-12-21 11:48:37,220 : INFO : PROGRESS: at sentence #230000, processed 52930316 words, keeping 21031345 word types\n",
      "2017-12-21 11:48:38,330 : INFO : PROGRESS: at sentence #240000, processed 54971475 words, keeping 21702383 word types\n",
      "2017-12-21 11:48:39,464 : INFO : PROGRESS: at sentence #250000, processed 57057133 words, keeping 22344538 word types\n",
      "2017-12-21 11:48:41,941 : INFO : PROGRESS: at sentence #260000, processed 59186257 words, keeping 22978749 word types\n",
      "2017-12-21 11:48:42,909 : INFO : PROGRESS: at sentence #270000, processed 61098272 words, keeping 23523279 word types\n",
      "2017-12-21 11:48:43,797 : INFO : PROGRESS: at sentence #280000, processed 62793997 words, keeping 24020132 word types\n",
      "2017-12-21 11:48:43,860 : INFO : collected 24057423 word types from a corpus of 62921775 raw words and 280839 sentences\n",
      "2017-12-21 11:48:43,860 : INFO : Loading a fresh vocabulary\n",
      "2017-12-21 11:48:50,015 : INFO : min_count=10 retains 450346 unique words (1% of original 24057423, drops 23607077)\n",
      "2017-12-21 11:48:50,015 : INFO : min_count=10 leaves 32708491 word corpus (51% of original 62921775, drops 30213284)\n",
      "2017-12-21 11:48:51,095 : INFO : deleting the raw counts dictionary of 24057423 items\n",
      "2017-12-21 11:48:51,767 : INFO : sample=0.001 downsamples 13 most-common words\n",
      "2017-12-21 11:48:51,767 : INFO : downsampling leaves estimated 31863776 word corpus (97.4% of prior 32708491)\n",
      "2017-12-21 11:48:51,767 : INFO : estimated required memory for 450346 words and 400 dimensions: 1666280200 bytes\n",
      "2017-12-21 11:48:53,207 : INFO : resetting layer weights\n",
      "2017-12-21 11:48:58,712 : INFO : training model with 8 workers on 450346 vocabulary and 400 features, using sg=1 hs=0 sample=0.001 negative=5 window=5\n",
      "2017-12-21 11:48:59,712 : INFO : PROGRESS: at 0.06% examples, 192220 words/s, in_qsize 15, out_qsize 0\n",
      "2017-12-21 11:49:00,729 : INFO : PROGRESS: at 0.14% examples, 205901 words/s, in_qsize 15, out_qsize 0\n",
      "2017-12-21 11:49:01,729 : INFO : PROGRESS: at 0.24% examples, 211585 words/s, in_qsize 15, out_qsize 0\n",
      "2017-12-21 11:49:02,772 : INFO : PROGRESS: at 0.35% examples, 216023 words/s, in_qsize 15, out_qsize 0\n",
      "2017-12-21 11:49:03,788 : INFO : PROGRESS: at 0.47% examples, 218044 words/s, in_qsize 15, out_qsize 0\n",
      "2017-12-21 11:49:04,804 : INFO : PROGRESS: at 0.58% examples, 218092 words/s, in_qsize 14, out_qsize 0\n",
      "2017-12-21 11:49:05,832 : INFO : PROGRESS: at 0.70% examples, 219257 words/s, in_qsize 15, out_qsize 0\n",
      "2017-12-21 11:49:06,864 : INFO : PROGRESS: at 0.81% examples, 219963 words/s, in_qsize 15, out_qsize 0\n",
      "2017-12-21 11:49:07,863 : INFO : PROGRESS: at 0.95% examples, 220589 words/s, in_qsize 15, out_qsize 0\n",
      "2017-12-21 11:49:08,878 : INFO : PROGRESS: at 1.07% examples, 221340 words/s, in_qsize 16, out_qsize 0\n",
      "2017-12-21 11:49:09,927 : INFO : PROGRESS: at 1.20% examples, 221633 words/s, in_qsize 16, out_qsize 0\n",
      "2017-12-21 11:49:10,927 : INFO : PROGRESS: at 1.34% examples, 221867 words/s, in_qsize 15, out_qsize 0\n",
      "2017-12-21 11:49:11,943 : INFO : PROGRESS: at 1.48% examples, 222763 words/s, in_qsize 13, out_qsize 0\n",
      "2017-12-21 11:49:12,946 : INFO : PROGRESS: at 1.61% examples, 222390 words/s, in_qsize 15, out_qsize 0\n",
      "2017-12-21 11:49:13,962 : INFO : PROGRESS: at 1.74% examples, 223140 words/s, in_qsize 15, out_qsize 0\n",
      "2017-12-21 11:49:14,969 : INFO : PROGRESS: at 1.87% examples, 222979 words/s, in_qsize 16, out_qsize 0\n",
      "2017-12-21 11:49:15,969 : INFO : PROGRESS: at 2.01% examples, 223241 words/s, in_qsize 15, out_qsize 0\n",
      "2017-12-21 11:49:17,002 : INFO : PROGRESS: at 2.13% examples, 223576 words/s, in_qsize 16, out_qsize 0\n",
      "2017-12-21 11:49:18,002 : INFO : PROGRESS: at 2.28% examples, 224298 words/s, in_qsize 14, out_qsize 0\n",
      "2017-12-21 11:49:19,034 : INFO : PROGRESS: at 2.41% examples, 224434 words/s, in_qsize 16, out_qsize 0\n",
      "2017-12-21 11:49:20,045 : INFO : PROGRESS: at 2.56% examples, 224079 words/s, in_qsize 15, out_qsize 0\n",
      "2017-12-21 11:49:21,061 : INFO : PROGRESS: at 2.69% examples, 224574 words/s, in_qsize 15, out_qsize 0\n",
      "2017-12-21 11:49:22,115 : INFO : PROGRESS: at 2.83% examples, 224491 words/s, in_qsize 15, out_qsize 0\n",
      "2017-12-21 11:49:23,115 : INFO : PROGRESS: at 2.99% examples, 224745 words/s, in_qsize 15, out_qsize 0\n",
      "2017-12-21 11:49:24,147 : INFO : PROGRESS: at 3.14% examples, 225167 words/s, in_qsize 16, out_qsize 0\n",
      "2017-12-21 11:49:25,160 : INFO : PROGRESS: at 3.26% examples, 225165 words/s, in_qsize 15, out_qsize 0\n",
      "2017-12-21 11:49:26,191 : INFO : PROGRESS: at 3.41% examples, 225051 words/s, in_qsize 15, out_qsize 0\n",
      "2017-12-21 11:49:27,213 : INFO : PROGRESS: at 3.55% examples, 225340 words/s, in_qsize 15, out_qsize 0\n",
      "2017-12-21 11:49:28,214 : INFO : PROGRESS: at 3.70% examples, 225361 words/s, in_qsize 15, out_qsize 0\n",
      "2017-12-21 11:49:29,239 : INFO : PROGRESS: at 3.85% examples, 225419 words/s, in_qsize 15, out_qsize 0\n",
      "2017-12-21 11:49:30,286 : INFO : PROGRESS: at 3.99% examples, 225783 words/s, in_qsize 15, out_qsize 0\n",
      "2017-12-21 11:49:31,317 : INFO : PROGRESS: at 4.12% examples, 226043 words/s, in_qsize 16, out_qsize 0\n",
      "2017-12-21 11:49:32,347 : INFO : PROGRESS: at 4.26% examples, 225904 words/s, in_qsize 15, out_qsize 0\n",
      "2017-12-21 11:49:33,347 : INFO : PROGRESS: at 4.42% examples, 226245 words/s, in_qsize 15, out_qsize 0\n",
      "2017-12-21 11:49:34,361 : INFO : PROGRESS: at 4.57% examples, 226146 words/s, in_qsize 15, out_qsize 0\n",
      "2017-12-21 11:49:35,361 : INFO : PROGRESS: at 4.71% examples, 226131 words/s, in_qsize 15, out_qsize 0\n",
      "2017-12-21 11:49:36,384 : INFO : PROGRESS: at 4.87% examples, 226233 words/s, in_qsize 15, out_qsize 0\n"
     ]
    },
    {
     "name": "stderr",
     "output_type": "stream",
     "text": [
      "2017-12-21 11:49:37,384 : INFO : PROGRESS: at 5.03% examples, 226506 words/s, in_qsize 12, out_qsize 1\n",
      "2017-12-21 11:49:38,415 : INFO : PROGRESS: at 5.17% examples, 226391 words/s, in_qsize 15, out_qsize 0\n",
      "2017-12-21 11:49:39,425 : INFO : PROGRESS: at 5.33% examples, 226619 words/s, in_qsize 13, out_qsize 0\n",
      "2017-12-21 11:49:40,487 : INFO : PROGRESS: at 5.50% examples, 226474 words/s, in_qsize 15, out_qsize 0\n",
      "2017-12-21 11:49:41,495 : INFO : PROGRESS: at 5.65% examples, 226749 words/s, in_qsize 15, out_qsize 0\n",
      "2017-12-21 11:49:42,510 : INFO : PROGRESS: at 5.82% examples, 226913 words/s, in_qsize 15, out_qsize 0\n",
      "2017-12-21 11:49:43,523 : INFO : PROGRESS: at 5.97% examples, 226850 words/s, in_qsize 16, out_qsize 0\n",
      "2017-12-21 11:49:44,523 : INFO : PROGRESS: at 6.12% examples, 226981 words/s, in_qsize 14, out_qsize 0\n",
      "2017-12-21 11:49:45,648 : INFO : PROGRESS: at 6.28% examples, 226818 words/s, in_qsize 16, out_qsize 0\n",
      "2017-12-21 11:49:46,667 : INFO : PROGRESS: at 6.43% examples, 227149 words/s, in_qsize 15, out_qsize 0\n",
      "2017-12-21 11:49:47,682 : INFO : PROGRESS: at 6.60% examples, 227258 words/s, in_qsize 15, out_qsize 0\n",
      "2017-12-21 11:49:48,690 : INFO : PROGRESS: at 6.72% examples, 227699 words/s, in_qsize 15, out_qsize 0\n",
      "2017-12-21 11:49:49,737 : INFO : PROGRESS: at 6.87% examples, 227757 words/s, in_qsize 15, out_qsize 0\n",
      "2017-12-21 11:49:50,740 : INFO : PROGRESS: at 7.02% examples, 228035 words/s, in_qsize 13, out_qsize 0\n",
      "2017-12-21 11:49:51,756 : INFO : PROGRESS: at 7.14% examples, 228048 words/s, in_qsize 15, out_qsize 0\n",
      "2017-12-21 11:49:52,772 : INFO : PROGRESS: at 7.30% examples, 228215 words/s, in_qsize 16, out_qsize 0\n",
      "2017-12-21 11:49:53,776 : INFO : PROGRESS: at 7.44% examples, 228224 words/s, in_qsize 15, out_qsize 0\n",
      "2017-12-21 11:49:54,776 : INFO : PROGRESS: at 7.59% examples, 228335 words/s, in_qsize 15, out_qsize 0\n",
      "2017-12-21 11:49:55,810 : INFO : PROGRESS: at 7.77% examples, 228495 words/s, in_qsize 15, out_qsize 0\n",
      "2017-12-21 11:49:56,810 : INFO : PROGRESS: at 7.94% examples, 228610 words/s, in_qsize 13, out_qsize 0\n",
      "2017-12-21 11:49:57,814 : INFO : PROGRESS: at 8.10% examples, 228556 words/s, in_qsize 15, out_qsize 0\n",
      "2017-12-21 11:49:58,861 : INFO : PROGRESS: at 8.28% examples, 228628 words/s, in_qsize 16, out_qsize 0\n",
      "2017-12-21 11:49:59,861 : INFO : PROGRESS: at 8.46% examples, 228779 words/s, in_qsize 14, out_qsize 0\n",
      "2017-12-21 11:50:00,886 : INFO : PROGRESS: at 8.61% examples, 228824 words/s, in_qsize 15, out_qsize 0\n",
      "2017-12-21 11:50:01,886 : INFO : PROGRESS: at 8.76% examples, 228904 words/s, in_qsize 15, out_qsize 0\n",
      "2017-12-21 11:50:02,890 : INFO : PROGRESS: at 8.89% examples, 228927 words/s, in_qsize 16, out_qsize 0\n",
      "2017-12-21 11:50:03,890 : INFO : PROGRESS: at 9.06% examples, 228999 words/s, in_qsize 15, out_qsize 0\n",
      "2017-12-21 11:50:04,899 : INFO : PROGRESS: at 9.22% examples, 228984 words/s, in_qsize 16, out_qsize 0\n",
      "2017-12-21 11:50:05,977 : INFO : PROGRESS: at 9.34% examples, 228977 words/s, in_qsize 15, out_qsize 0\n",
      "2017-12-21 11:50:07,009 : INFO : PROGRESS: at 9.51% examples, 229148 words/s, in_qsize 16, out_qsize 0\n",
      "2017-12-21 11:50:08,033 : INFO : PROGRESS: at 9.68% examples, 229075 words/s, in_qsize 15, out_qsize 1\n",
      "2017-12-21 11:50:09,033 : INFO : PROGRESS: at 9.82% examples, 229194 words/s, in_qsize 15, out_qsize 0\n",
      "2017-12-21 11:50:10,070 : INFO : PROGRESS: at 9.98% examples, 229269 words/s, in_qsize 15, out_qsize 0\n",
      "2017-12-21 11:50:11,180 : INFO : PROGRESS: at 10.12% examples, 229218 words/s, in_qsize 15, out_qsize 0\n",
      "2017-12-21 11:50:12,174 : INFO : PROGRESS: at 10.28% examples, 229370 words/s, in_qsize 16, out_qsize 0\n",
      "2017-12-21 11:50:13,221 : INFO : PROGRESS: at 10.45% examples, 229405 words/s, in_qsize 15, out_qsize 0\n",
      "2017-12-21 11:50:14,221 : INFO : PROGRESS: at 10.63% examples, 229569 words/s, in_qsize 15, out_qsize 0\n",
      "2017-12-21 11:50:15,267 : INFO : PROGRESS: at 10.77% examples, 229507 words/s, in_qsize 16, out_qsize 0\n",
      "2017-12-21 11:50:16,298 : INFO : PROGRESS: at 10.93% examples, 229607 words/s, in_qsize 15, out_qsize 0\n",
      "2017-12-21 11:50:17,321 : INFO : PROGRESS: at 11.11% examples, 229626 words/s, in_qsize 16, out_qsize 0\n",
      "2017-12-21 11:50:18,336 : INFO : PROGRESS: at 11.26% examples, 229713 words/s, in_qsize 15, out_qsize 0\n",
      "2017-12-21 11:50:19,345 : INFO : PROGRESS: at 11.38% examples, 229906 words/s, in_qsize 14, out_qsize 1\n",
      "2017-12-21 11:50:20,361 : INFO : PROGRESS: at 11.51% examples, 230947 words/s, in_qsize 15, out_qsize 0\n",
      "2017-12-21 11:50:21,392 : INFO : PROGRESS: at 11.65% examples, 231127 words/s, in_qsize 15, out_qsize 0\n",
      "2017-12-21 11:50:22,415 : INFO : PROGRESS: at 11.83% examples, 231231 words/s, in_qsize 15, out_qsize 0\n",
      "2017-12-21 11:50:23,431 : INFO : PROGRESS: at 11.98% examples, 231198 words/s, in_qsize 14, out_qsize 0\n",
      "2017-12-21 11:50:24,489 : INFO : PROGRESS: at 12.14% examples, 231196 words/s, in_qsize 15, out_qsize 0\n",
      "2017-12-21 11:50:25,521 : INFO : PROGRESS: at 12.30% examples, 231242 words/s, in_qsize 16, out_qsize 0\n",
      "2017-12-21 11:50:26,552 : INFO : PROGRESS: at 12.44% examples, 231293 words/s, in_qsize 16, out_qsize 0\n",
      "2017-12-21 11:50:27,567 : INFO : PROGRESS: at 12.61% examples, 231335 words/s, in_qsize 15, out_qsize 0\n",
      "2017-12-21 11:50:28,567 : INFO : PROGRESS: at 12.78% examples, 231417 words/s, in_qsize 13, out_qsize 1\n",
      "2017-12-21 11:50:29,608 : INFO : PROGRESS: at 12.95% examples, 231445 words/s, in_qsize 15, out_qsize 0\n",
      "2017-12-21 11:50:30,639 : INFO : PROGRESS: at 13.10% examples, 231380 words/s, in_qsize 15, out_qsize 0\n",
      "2017-12-21 11:50:31,658 : INFO : PROGRESS: at 13.27% examples, 231471 words/s, in_qsize 15, out_qsize 0\n",
      "2017-12-21 11:50:32,674 : INFO : PROGRESS: at 13.42% examples, 231562 words/s, in_qsize 15, out_qsize 0\n",
      "2017-12-21 11:50:33,687 : INFO : PROGRESS: at 13.58% examples, 231547 words/s, in_qsize 15, out_qsize 0\n",
      "2017-12-21 11:50:34,703 : INFO : PROGRESS: at 13.75% examples, 231590 words/s, in_qsize 15, out_qsize 0\n",
      "2017-12-21 11:50:35,703 : INFO : PROGRESS: at 13.92% examples, 231546 words/s, in_qsize 15, out_qsize 0\n",
      "2017-12-21 11:50:36,726 : INFO : PROGRESS: at 14.08% examples, 231749 words/s, in_qsize 12, out_qsize 0\n",
      "2017-12-21 11:50:37,757 : INFO : PROGRESS: at 14.25% examples, 231748 words/s, in_qsize 15, out_qsize 0\n",
      "2017-12-21 11:50:38,818 : INFO : PROGRESS: at 14.43% examples, 231888 words/s, in_qsize 15, out_qsize 0\n",
      "2017-12-21 11:50:39,833 : INFO : PROGRESS: at 14.57% examples, 232692 words/s, in_qsize 15, out_qsize 0\n",
      "2017-12-21 11:50:40,868 : INFO : PROGRESS: at 14.73% examples, 233026 words/s, in_qsize 15, out_qsize 0\n",
      "2017-12-21 11:50:41,883 : INFO : PROGRESS: at 14.90% examples, 233079 words/s, in_qsize 15, out_qsize 0\n",
      "2017-12-21 11:50:42,899 : INFO : PROGRESS: at 15.05% examples, 233101 words/s, in_qsize 16, out_qsize 0\n",
      "2017-12-21 11:50:43,902 : INFO : PROGRESS: at 15.21% examples, 233130 words/s, in_qsize 15, out_qsize 0\n",
      "2017-12-21 11:50:44,918 : INFO : PROGRESS: at 15.39% examples, 233133 words/s, in_qsize 15, out_qsize 0\n",
      "2017-12-21 11:50:45,931 : INFO : PROGRESS: at 15.54% examples, 233191 words/s, in_qsize 16, out_qsize 0\n",
      "2017-12-21 11:50:46,962 : INFO : PROGRESS: at 15.69% examples, 233098 words/s, in_qsize 16, out_qsize 0\n",
      "2017-12-21 11:50:47,970 : INFO : PROGRESS: at 15.85% examples, 233246 words/s, in_qsize 15, out_qsize 0\n",
      "2017-12-21 11:50:49,002 : INFO : PROGRESS: at 16.01% examples, 233400 words/s, in_qsize 16, out_qsize 0\n",
      "2017-12-21 11:50:50,018 : INFO : PROGRESS: at 16.18% examples, 233420 words/s, in_qsize 15, out_qsize 0\n",
      "2017-12-21 11:50:51,075 : INFO : PROGRESS: at 16.35% examples, 233479 words/s, in_qsize 15, out_qsize 0\n",
      "2017-12-21 11:50:52,091 : INFO : PROGRESS: at 16.53% examples, 233560 words/s, in_qsize 16, out_qsize 0\n",
      "2017-12-21 11:50:53,090 : INFO : PROGRESS: at 16.70% examples, 233622 words/s, in_qsize 15, out_qsize 0\n",
      "2017-12-21 11:50:54,137 : INFO : PROGRESS: at 16.84% examples, 233603 words/s, in_qsize 16, out_qsize 0\n",
      "2017-12-21 11:50:55,142 : INFO : PROGRESS: at 16.98% examples, 233653 words/s, in_qsize 15, out_qsize 0\n",
      "2017-12-21 11:50:56,143 : INFO : PROGRESS: at 17.14% examples, 233723 words/s, in_qsize 15, out_qsize 0\n",
      "2017-12-21 11:50:57,174 : INFO : PROGRESS: at 17.26% examples, 233807 words/s, in_qsize 15, out_qsize 0\n",
      "2017-12-21 11:50:58,204 : INFO : PROGRESS: at 17.42% examples, 233884 words/s, in_qsize 15, out_qsize 0\n"
     ]
    },
    {
     "name": "stderr",
     "output_type": "stream",
     "text": [
      "2017-12-21 11:50:59,266 : INFO : PROGRESS: at 17.58% examples, 233900 words/s, in_qsize 15, out_qsize 0\n",
      "2017-12-21 11:51:00,290 : INFO : PROGRESS: at 17.75% examples, 233969 words/s, in_qsize 15, out_qsize 0\n",
      "2017-12-21 11:51:01,353 : INFO : PROGRESS: at 17.90% examples, 234012 words/s, in_qsize 15, out_qsize 0\n",
      "2017-12-21 11:51:02,352 : INFO : PROGRESS: at 18.05% examples, 234196 words/s, in_qsize 15, out_qsize 0\n",
      "2017-12-21 11:51:03,383 : INFO : PROGRESS: at 18.21% examples, 234157 words/s, in_qsize 15, out_qsize 0\n",
      "2017-12-21 11:51:04,399 : INFO : PROGRESS: at 18.38% examples, 234235 words/s, in_qsize 14, out_qsize 0\n",
      "2017-12-21 11:51:05,397 : INFO : PROGRESS: at 18.50% examples, 234283 words/s, in_qsize 15, out_qsize 0\n",
      "2017-12-21 11:51:06,428 : INFO : PROGRESS: at 18.65% examples, 234410 words/s, in_qsize 16, out_qsize 0\n",
      "2017-12-21 11:51:07,447 : INFO : PROGRESS: at 18.79% examples, 234404 words/s, in_qsize 16, out_qsize 0\n",
      "2017-12-21 11:51:08,478 : INFO : PROGRESS: at 18.96% examples, 234419 words/s, in_qsize 16, out_qsize 0\n",
      "2017-12-21 11:51:09,475 : INFO : PROGRESS: at 19.11% examples, 234540 words/s, in_qsize 13, out_qsize 1\n",
      "2017-12-21 11:51:10,491 : INFO : PROGRESS: at 19.27% examples, 234566 words/s, in_qsize 15, out_qsize 0\n",
      "2017-12-21 11:51:11,522 : INFO : PROGRESS: at 19.46% examples, 234590 words/s, in_qsize 16, out_qsize 0\n",
      "2017-12-21 11:51:12,533 : INFO : PROGRESS: at 19.65% examples, 234655 words/s, in_qsize 15, out_qsize 0\n",
      "2017-12-21 11:51:13,548 : INFO : PROGRESS: at 19.83% examples, 234762 words/s, in_qsize 15, out_qsize 0\n",
      "2017-12-21 11:51:14,560 : INFO : PROGRESS: at 20.01% examples, 234808 words/s, in_qsize 13, out_qsize 2\n",
      "2017-12-21 11:51:15,576 : INFO : PROGRESS: at 20.08% examples, 234778 words/s, in_qsize 16, out_qsize 0\n",
      "2017-12-21 11:51:16,579 : INFO : PROGRESS: at 20.18% examples, 234681 words/s, in_qsize 15, out_qsize 0\n",
      "2017-12-21 11:51:17,610 : INFO : PROGRESS: at 20.28% examples, 234674 words/s, in_qsize 15, out_qsize 0\n",
      "2017-12-21 11:51:18,626 : INFO : PROGRESS: at 20.40% examples, 234620 words/s, in_qsize 15, out_qsize 0\n",
      "2017-12-21 11:51:19,632 : INFO : PROGRESS: at 20.51% examples, 234596 words/s, in_qsize 15, out_qsize 0\n",
      "2017-12-21 11:51:20,648 : INFO : PROGRESS: at 20.63% examples, 234605 words/s, in_qsize 16, out_qsize 0\n",
      "2017-12-21 11:51:21,653 : INFO : PROGRESS: at 20.74% examples, 234525 words/s, in_qsize 16, out_qsize 0\n",
      "2017-12-21 11:51:22,653 : INFO : PROGRESS: at 20.88% examples, 234546 words/s, in_qsize 16, out_qsize 0\n",
      "2017-12-21 11:51:23,676 : INFO : PROGRESS: at 21.01% examples, 234495 words/s, in_qsize 15, out_qsize 0\n",
      "2017-12-21 11:51:24,676 : INFO : PROGRESS: at 21.13% examples, 234487 words/s, in_qsize 15, out_qsize 0\n",
      "2017-12-21 11:51:25,676 : INFO : PROGRESS: at 21.27% examples, 234476 words/s, in_qsize 15, out_qsize 0\n",
      "2017-12-21 11:51:26,713 : INFO : PROGRESS: at 21.41% examples, 234425 words/s, in_qsize 16, out_qsize 0\n",
      "2017-12-21 11:51:27,729 : INFO : PROGRESS: at 21.55% examples, 234405 words/s, in_qsize 15, out_qsize 0\n",
      "2017-12-21 11:51:28,748 : INFO : PROGRESS: at 21.69% examples, 234387 words/s, in_qsize 15, out_qsize 0\n",
      "2017-12-21 11:51:29,811 : INFO : PROGRESS: at 21.82% examples, 234374 words/s, in_qsize 15, out_qsize 0\n",
      "2017-12-21 11:51:30,811 : INFO : PROGRESS: at 21.98% examples, 234465 words/s, in_qsize 14, out_qsize 0\n",
      "2017-12-21 11:51:31,844 : INFO : PROGRESS: at 22.10% examples, 234429 words/s, in_qsize 14, out_qsize 0\n",
      "2017-12-21 11:51:32,876 : INFO : PROGRESS: at 22.25% examples, 234388 words/s, in_qsize 15, out_qsize 0\n",
      "2017-12-21 11:51:33,875 : INFO : PROGRESS: at 22.38% examples, 234415 words/s, in_qsize 15, out_qsize 0\n",
      "2017-12-21 11:51:34,907 : INFO : PROGRESS: at 22.54% examples, 234468 words/s, in_qsize 15, out_qsize 0\n",
      "2017-12-21 11:51:35,908 : INFO : PROGRESS: at 22.67% examples, 234431 words/s, in_qsize 15, out_qsize 0\n",
      "2017-12-21 11:51:36,924 : INFO : PROGRESS: at 22.82% examples, 234465 words/s, in_qsize 16, out_qsize 0\n",
      "2017-12-21 11:51:37,955 : INFO : PROGRESS: at 22.98% examples, 234441 words/s, in_qsize 16, out_qsize 0\n",
      "2017-12-21 11:51:38,943 : INFO : PROGRESS: at 23.13% examples, 234450 words/s, in_qsize 15, out_qsize 0\n",
      "2017-12-21 11:51:39,943 : INFO : PROGRESS: at 23.26% examples, 234522 words/s, in_qsize 15, out_qsize 0\n",
      "2017-12-21 11:51:40,973 : INFO : PROGRESS: at 23.41% examples, 234470 words/s, in_qsize 15, out_qsize 0\n",
      "2017-12-21 11:51:42,004 : INFO : PROGRESS: at 23.55% examples, 234511 words/s, in_qsize 16, out_qsize 0\n",
      "2017-12-21 11:51:43,023 : INFO : PROGRESS: at 23.71% examples, 234480 words/s, in_qsize 15, out_qsize 0\n",
      "2017-12-21 11:51:44,054 : INFO : PROGRESS: at 23.87% examples, 234513 words/s, in_qsize 15, out_qsize 0\n",
      "2017-12-21 11:51:45,101 : INFO : PROGRESS: at 24.01% examples, 234572 words/s, in_qsize 16, out_qsize 0\n",
      "2017-12-21 11:51:46,099 : INFO : PROGRESS: at 24.14% examples, 234620 words/s, in_qsize 15, out_qsize 0\n",
      "2017-12-21 11:51:47,099 : INFO : PROGRESS: at 24.29% examples, 234616 words/s, in_qsize 15, out_qsize 0\n",
      "2017-12-21 11:51:48,123 : INFO : PROGRESS: at 24.46% examples, 234673 words/s, in_qsize 11, out_qsize 0\n",
      "2017-12-21 11:51:49,139 : INFO : PROGRESS: at 24.60% examples, 234645 words/s, in_qsize 15, out_qsize 0\n",
      "2017-12-21 11:51:50,142 : INFO : PROGRESS: at 24.76% examples, 234627 words/s, in_qsize 15, out_qsize 0\n",
      "2017-12-21 11:51:51,158 : INFO : PROGRESS: at 24.92% examples, 234702 words/s, in_qsize 12, out_qsize 0\n",
      "2017-12-21 11:51:52,158 : INFO : PROGRESS: at 25.08% examples, 234663 words/s, in_qsize 15, out_qsize 0\n",
      "2017-12-21 11:51:53,243 : INFO : PROGRESS: at 25.24% examples, 234640 words/s, in_qsize 14, out_qsize 1\n",
      "2017-12-21 11:51:54,259 : INFO : PROGRESS: at 25.41% examples, 234704 words/s, in_qsize 15, out_qsize 0\n",
      "2017-12-21 11:51:55,267 : INFO : PROGRESS: at 25.57% examples, 234680 words/s, in_qsize 15, out_qsize 0\n",
      "2017-12-21 11:51:56,283 : INFO : PROGRESS: at 25.73% examples, 234718 words/s, in_qsize 15, out_qsize 0\n",
      "2017-12-21 11:51:57,319 : INFO : PROGRESS: at 25.90% examples, 234735 words/s, in_qsize 15, out_qsize 0\n",
      "2017-12-21 11:51:58,320 : INFO : PROGRESS: at 26.06% examples, 234778 words/s, in_qsize 15, out_qsize 0\n",
      "2017-12-21 11:51:59,335 : INFO : PROGRESS: at 26.22% examples, 234778 words/s, in_qsize 15, out_qsize 0\n",
      "2017-12-21 11:52:00,329 : INFO : PROGRESS: at 26.36% examples, 234826 words/s, in_qsize 15, out_qsize 0\n",
      "2017-12-21 11:52:01,345 : INFO : PROGRESS: at 26.52% examples, 234842 words/s, in_qsize 15, out_qsize 0\n",
      "2017-12-21 11:52:02,366 : INFO : PROGRESS: at 26.67% examples, 234895 words/s, in_qsize 15, out_qsize 0\n",
      "2017-12-21 11:52:03,382 : INFO : PROGRESS: at 26.81% examples, 234979 words/s, in_qsize 16, out_qsize 0\n",
      "2017-12-21 11:52:04,385 : INFO : PROGRESS: at 26.97% examples, 235050 words/s, in_qsize 15, out_qsize 0\n",
      "2017-12-21 11:52:05,401 : INFO : PROGRESS: at 27.10% examples, 235066 words/s, in_qsize 15, out_qsize 0\n",
      "2017-12-21 11:52:06,417 : INFO : PROGRESS: at 27.25% examples, 235059 words/s, in_qsize 15, out_qsize 0\n",
      "2017-12-21 11:52:07,452 : INFO : PROGRESS: at 27.41% examples, 235117 words/s, in_qsize 15, out_qsize 0\n",
      "2017-12-21 11:52:08,468 : INFO : PROGRESS: at 27.56% examples, 235181 words/s, in_qsize 14, out_qsize 0\n",
      "2017-12-21 11:52:09,525 : INFO : PROGRESS: at 27.74% examples, 235176 words/s, in_qsize 16, out_qsize 0\n",
      "2017-12-21 11:52:10,541 : INFO : PROGRESS: at 27.92% examples, 235231 words/s, in_qsize 15, out_qsize 0\n",
      "2017-12-21 11:52:11,563 : INFO : PROGRESS: at 28.09% examples, 235225 words/s, in_qsize 15, out_qsize 0\n",
      "2017-12-21 11:52:12,657 : INFO : PROGRESS: at 28.28% examples, 235189 words/s, in_qsize 15, out_qsize 0\n",
      "2017-12-21 11:52:13,672 : INFO : PROGRESS: at 28.47% examples, 235283 words/s, in_qsize 16, out_qsize 0\n",
      "2017-12-21 11:52:14,684 : INFO : PROGRESS: at 28.63% examples, 235321 words/s, in_qsize 14, out_qsize 0\n",
      "2017-12-21 11:52:15,731 : INFO : PROGRESS: at 28.78% examples, 235359 words/s, in_qsize 15, out_qsize 0\n",
      "2017-12-21 11:52:16,738 : INFO : PROGRESS: at 28.93% examples, 235351 words/s, in_qsize 15, out_qsize 0\n",
      "2017-12-21 11:52:17,785 : INFO : PROGRESS: at 29.11% examples, 235340 words/s, in_qsize 15, out_qsize 0\n",
      "2017-12-21 11:52:18,850 : INFO : PROGRESS: at 29.25% examples, 235340 words/s, in_qsize 15, out_qsize 0\n"
     ]
    },
    {
     "name": "stderr",
     "output_type": "stream",
     "text": [
      "2017-12-21 11:52:19,866 : INFO : PROGRESS: at 29.40% examples, 235409 words/s, in_qsize 15, out_qsize 0\n",
      "2017-12-21 11:52:20,882 : INFO : PROGRESS: at 29.56% examples, 235402 words/s, in_qsize 16, out_qsize 0\n",
      "2017-12-21 11:52:21,901 : INFO : PROGRESS: at 29.74% examples, 235434 words/s, in_qsize 15, out_qsize 0\n",
      "2017-12-21 11:52:22,917 : INFO : PROGRESS: at 29.89% examples, 235433 words/s, in_qsize 15, out_qsize 0\n",
      "2017-12-21 11:52:23,927 : INFO : PROGRESS: at 30.04% examples, 235455 words/s, in_qsize 16, out_qsize 0\n",
      "2017-12-21 11:52:24,942 : INFO : PROGRESS: at 30.17% examples, 235504 words/s, in_qsize 15, out_qsize 0\n",
      "2017-12-21 11:52:25,947 : INFO : PROGRESS: at 30.33% examples, 235540 words/s, in_qsize 15, out_qsize 0\n",
      "2017-12-21 11:52:26,978 : INFO : PROGRESS: at 30.52% examples, 235532 words/s, in_qsize 16, out_qsize 0\n",
      "2017-12-21 11:52:28,041 : INFO : PROGRESS: at 30.70% examples, 235542 words/s, in_qsize 15, out_qsize 0\n",
      "2017-12-21 11:52:29,063 : INFO : PROGRESS: at 30.85% examples, 235570 words/s, in_qsize 16, out_qsize 0\n",
      "2017-12-21 11:52:30,063 : INFO : PROGRESS: at 31.02% examples, 235595 words/s, in_qsize 16, out_qsize 0\n",
      "2017-12-21 11:52:31,074 : INFO : PROGRESS: at 31.19% examples, 235656 words/s, in_qsize 15, out_qsize 0\n",
      "2017-12-21 11:52:32,090 : INFO : PROGRESS: at 31.33% examples, 235663 words/s, in_qsize 15, out_qsize 0\n",
      "2017-12-21 11:52:33,109 : INFO : PROGRESS: at 31.46% examples, 235922 words/s, in_qsize 15, out_qsize 0\n",
      "2017-12-21 11:52:34,109 : INFO : PROGRESS: at 31.60% examples, 236145 words/s, in_qsize 15, out_qsize 0\n",
      "2017-12-21 11:52:35,125 : INFO : PROGRESS: at 31.76% examples, 236232 words/s, in_qsize 12, out_qsize 1\n",
      "2017-12-21 11:52:36,128 : INFO : PROGRESS: at 31.92% examples, 236199 words/s, in_qsize 16, out_qsize 0\n",
      "2017-12-21 11:52:37,128 : INFO : PROGRESS: at 32.08% examples, 236208 words/s, in_qsize 16, out_qsize 0\n",
      "2017-12-21 11:52:38,136 : INFO : PROGRESS: at 32.23% examples, 236255 words/s, in_qsize 15, out_qsize 0\n",
      "2017-12-21 11:52:39,152 : INFO : PROGRESS: at 32.39% examples, 236291 words/s, in_qsize 16, out_qsize 0\n",
      "2017-12-21 11:52:40,177 : INFO : PROGRESS: at 32.55% examples, 236285 words/s, in_qsize 15, out_qsize 0\n",
      "2017-12-21 11:52:41,193 : INFO : PROGRESS: at 32.72% examples, 236334 words/s, in_qsize 15, out_qsize 0\n",
      "2017-12-21 11:52:42,271 : INFO : PROGRESS: at 32.90% examples, 236320 words/s, in_qsize 16, out_qsize 0\n",
      "2017-12-21 11:52:43,274 : INFO : PROGRESS: at 33.07% examples, 236388 words/s, in_qsize 16, out_qsize 0\n",
      "2017-12-21 11:52:44,274 : INFO : PROGRESS: at 33.23% examples, 236391 words/s, in_qsize 15, out_qsize 0\n",
      "2017-12-21 11:52:45,284 : INFO : PROGRESS: at 33.39% examples, 236438 words/s, in_qsize 16, out_qsize 0\n",
      "2017-12-21 11:52:46,285 : INFO : PROGRESS: at 33.55% examples, 236455 words/s, in_qsize 15, out_qsize 0\n",
      "2017-12-21 11:52:47,297 : INFO : PROGRESS: at 33.73% examples, 236505 words/s, in_qsize 15, out_qsize 0\n",
      "2017-12-21 11:52:48,328 : INFO : PROGRESS: at 33.90% examples, 236510 words/s, in_qsize 15, out_qsize 0\n",
      "2017-12-21 11:52:49,328 : INFO : PROGRESS: at 34.06% examples, 236544 words/s, in_qsize 15, out_qsize 0\n",
      "2017-12-21 11:52:50,363 : INFO : PROGRESS: at 34.24% examples, 236559 words/s, in_qsize 15, out_qsize 0\n",
      "2017-12-21 11:52:51,363 : INFO : PROGRESS: at 34.41% examples, 236637 words/s, in_qsize 15, out_qsize 0\n",
      "2017-12-21 11:52:52,384 : INFO : PROGRESS: at 34.56% examples, 236891 words/s, in_qsize 15, out_qsize 0\n",
      "2017-12-21 11:52:53,415 : INFO : PROGRESS: at 34.72% examples, 237064 words/s, in_qsize 15, out_qsize 0\n",
      "2017-12-21 11:52:54,431 : INFO : PROGRESS: at 34.90% examples, 237185 words/s, in_qsize 10, out_qsize 0\n",
      "2017-12-21 11:52:55,452 : INFO : PROGRESS: at 35.05% examples, 237126 words/s, in_qsize 15, out_qsize 0\n",
      "2017-12-21 11:52:56,483 : INFO : PROGRESS: at 35.21% examples, 237164 words/s, in_qsize 15, out_qsize 0\n",
      "2017-12-21 11:52:57,492 : INFO : PROGRESS: at 35.40% examples, 237171 words/s, in_qsize 15, out_qsize 0\n",
      "2017-12-21 11:52:58,524 : INFO : PROGRESS: at 35.56% examples, 237219 words/s, in_qsize 16, out_qsize 0\n",
      "2017-12-21 11:52:59,535 : INFO : PROGRESS: at 35.71% examples, 237244 words/s, in_qsize 15, out_qsize 0\n",
      "2017-12-21 11:53:00,551 : INFO : PROGRESS: at 35.87% examples, 237288 words/s, in_qsize 15, out_qsize 0\n",
      "2017-12-21 11:53:01,567 : INFO : PROGRESS: at 36.04% examples, 237347 words/s, in_qsize 14, out_qsize 1\n",
      "2017-12-21 11:53:02,577 : INFO : PROGRESS: at 36.21% examples, 237373 words/s, in_qsize 15, out_qsize 0\n",
      "2017-12-21 11:53:03,593 : INFO : PROGRESS: at 36.38% examples, 237428 words/s, in_qsize 15, out_qsize 0\n",
      "2017-12-21 11:53:04,598 : INFO : PROGRESS: at 36.55% examples, 237425 words/s, in_qsize 15, out_qsize 0\n",
      "2017-12-21 11:53:05,629 : INFO : PROGRESS: at 36.73% examples, 237503 words/s, in_qsize 12, out_qsize 0\n",
      "2017-12-21 11:53:06,654 : INFO : PROGRESS: at 36.87% examples, 237490 words/s, in_qsize 16, out_qsize 0\n",
      "2017-12-21 11:53:07,701 : INFO : PROGRESS: at 37.03% examples, 237512 words/s, in_qsize 16, out_qsize 0\n",
      "2017-12-21 11:53:08,733 : INFO : PROGRESS: at 37.18% examples, 237512 words/s, in_qsize 15, out_qsize 0\n",
      "2017-12-21 11:53:09,731 : INFO : PROGRESS: at 37.31% examples, 237645 words/s, in_qsize 15, out_qsize 0\n",
      "2017-12-21 11:53:10,747 : INFO : PROGRESS: at 37.48% examples, 237676 words/s, in_qsize 15, out_qsize 0\n",
      "2017-12-21 11:53:11,763 : INFO : PROGRESS: at 37.64% examples, 237684 words/s, in_qsize 15, out_qsize 0\n",
      "2017-12-21 11:53:12,778 : INFO : PROGRESS: at 37.81% examples, 237751 words/s, in_qsize 15, out_qsize 0\n",
      "2017-12-21 11:53:13,827 : INFO : PROGRESS: at 37.95% examples, 237751 words/s, in_qsize 15, out_qsize 0\n",
      "2017-12-21 11:53:14,843 : INFO : PROGRESS: at 38.11% examples, 237846 words/s, in_qsize 15, out_qsize 0\n",
      "2017-12-21 11:53:15,874 : INFO : PROGRESS: at 38.28% examples, 237846 words/s, in_qsize 16, out_qsize 0\n",
      "2017-12-21 11:53:16,895 : INFO : PROGRESS: at 38.44% examples, 237871 words/s, in_qsize 13, out_qsize 0\n",
      "2017-12-21 11:53:17,926 : INFO : PROGRESS: at 38.57% examples, 237966 words/s, in_qsize 15, out_qsize 0\n",
      "2017-12-21 11:53:18,930 : INFO : PROGRESS: at 38.72% examples, 237949 words/s, in_qsize 15, out_qsize 0\n",
      "2017-12-21 11:53:19,930 : INFO : PROGRESS: at 38.89% examples, 238011 words/s, in_qsize 15, out_qsize 0\n",
      "2017-12-21 11:53:20,964 : INFO : PROGRESS: at 39.04% examples, 237999 words/s, in_qsize 15, out_qsize 0\n",
      "2017-12-21 11:53:22,011 : INFO : PROGRESS: at 39.21% examples, 238052 words/s, in_qsize 15, out_qsize 0\n",
      "2017-12-21 11:53:23,042 : INFO : PROGRESS: at 39.39% examples, 238089 words/s, in_qsize 15, out_qsize 0\n",
      "2017-12-21 11:53:24,067 : INFO : PROGRESS: at 39.60% examples, 238160 words/s, in_qsize 15, out_qsize 0\n",
      "2017-12-21 11:53:25,083 : INFO : PROGRESS: at 39.78% examples, 238157 words/s, in_qsize 15, out_qsize 0\n",
      "2017-12-21 11:53:26,095 : INFO : PROGRESS: at 39.96% examples, 238179 words/s, in_qsize 16, out_qsize 0\n",
      "2017-12-21 11:53:27,095 : INFO : PROGRESS: at 40.06% examples, 238183 words/s, in_qsize 16, out_qsize 0\n",
      "2017-12-21 11:53:28,126 : INFO : PROGRESS: at 40.15% examples, 238158 words/s, in_qsize 15, out_qsize 0\n",
      "2017-12-21 11:53:29,126 : INFO : PROGRESS: at 40.26% examples, 238142 words/s, in_qsize 15, out_qsize 0\n",
      "2017-12-21 11:53:30,142 : INFO : PROGRESS: at 40.37% examples, 238134 words/s, in_qsize 15, out_qsize 0\n",
      "2017-12-21 11:53:31,150 : INFO : PROGRESS: at 40.49% examples, 238136 words/s, in_qsize 13, out_qsize 1\n",
      "2017-12-21 11:53:32,150 : INFO : PROGRESS: at 40.60% examples, 238115 words/s, in_qsize 15, out_qsize 0\n",
      "2017-12-21 11:53:33,209 : INFO : PROGRESS: at 40.72% examples, 238080 words/s, in_qsize 16, out_qsize 0\n",
      "2017-12-21 11:53:34,209 : INFO : PROGRESS: at 40.86% examples, 238095 words/s, in_qsize 15, out_qsize 0\n",
      "2017-12-21 11:53:35,225 : INFO : PROGRESS: at 40.99% examples, 238091 words/s, in_qsize 15, out_qsize 0\n",
      "2017-12-21 11:53:36,274 : INFO : PROGRESS: at 41.12% examples, 238042 words/s, in_qsize 15, out_qsize 0\n",
      "2017-12-21 11:53:37,290 : INFO : PROGRESS: at 41.28% examples, 238097 words/s, in_qsize 10, out_qsize 0\n",
      "2017-12-21 11:53:38,340 : INFO : PROGRESS: at 41.41% examples, 238044 words/s, in_qsize 15, out_qsize 0\n",
      "2017-12-21 11:53:39,340 : INFO : PROGRESS: at 41.55% examples, 238029 words/s, in_qsize 15, out_qsize 0\n"
     ]
    },
    {
     "name": "stderr",
     "output_type": "stream",
     "text": [
      "2017-12-21 11:53:40,383 : INFO : PROGRESS: at 41.70% examples, 238053 words/s, in_qsize 16, out_qsize 0\n",
      "2017-12-21 11:53:41,383 : INFO : PROGRESS: at 41.84% examples, 238064 words/s, in_qsize 14, out_qsize 0\n",
      "2017-12-21 11:53:42,414 : INFO : PROGRESS: at 41.99% examples, 238046 words/s, in_qsize 15, out_qsize 0\n",
      "2017-12-21 11:53:43,424 : INFO : PROGRESS: at 42.11% examples, 238041 words/s, in_qsize 16, out_qsize 0\n",
      "2017-12-21 11:53:44,440 : INFO : PROGRESS: at 42.26% examples, 238067 words/s, in_qsize 15, out_qsize 0\n",
      "2017-12-21 11:53:45,453 : INFO : PROGRESS: at 42.40% examples, 238071 words/s, in_qsize 15, out_qsize 0\n",
      "2017-12-21 11:53:46,453 : INFO : PROGRESS: at 42.55% examples, 238070 words/s, in_qsize 15, out_qsize 0\n",
      "2017-12-21 11:53:47,463 : INFO : PROGRESS: at 42.70% examples, 238095 words/s, in_qsize 15, out_qsize 0\n",
      "2017-12-21 11:53:48,463 : INFO : PROGRESS: at 42.84% examples, 238078 words/s, in_qsize 15, out_qsize 0\n",
      "2017-12-21 11:53:49,510 : INFO : PROGRESS: at 43.00% examples, 238072 words/s, in_qsize 15, out_qsize 0\n",
      "2017-12-21 11:53:50,513 : INFO : PROGRESS: at 43.16% examples, 238085 words/s, in_qsize 15, out_qsize 0\n",
      "2017-12-21 11:53:51,513 : INFO : PROGRESS: at 43.29% examples, 238142 words/s, in_qsize 12, out_qsize 0\n",
      "2017-12-21 11:53:52,523 : INFO : PROGRESS: at 43.44% examples, 238150 words/s, in_qsize 12, out_qsize 0\n",
      "2017-12-21 11:53:53,523 : INFO : PROGRESS: at 43.58% examples, 238130 words/s, in_qsize 15, out_qsize 0\n",
      "2017-12-21 11:53:54,537 : INFO : PROGRESS: at 43.74% examples, 238164 words/s, in_qsize 12, out_qsize 0\n",
      "2017-12-21 11:53:55,538 : INFO : PROGRESS: at 43.90% examples, 238120 words/s, in_qsize 15, out_qsize 0\n",
      "2017-12-21 11:53:56,600 : INFO : PROGRESS: at 44.03% examples, 238139 words/s, in_qsize 15, out_qsize 0\n",
      "2017-12-21 11:53:57,601 : INFO : PROGRESS: at 44.18% examples, 238207 words/s, in_qsize 15, out_qsize 0\n",
      "2017-12-21 11:53:58,632 : INFO : PROGRESS: at 44.33% examples, 238197 words/s, in_qsize 16, out_qsize 0\n",
      "2017-12-21 11:53:59,623 : INFO : PROGRESS: at 44.50% examples, 238220 words/s, in_qsize 14, out_qsize 0\n",
      "2017-12-21 11:54:00,638 : INFO : PROGRESS: at 44.65% examples, 238224 words/s, in_qsize 12, out_qsize 0\n",
      "2017-12-21 11:54:01,658 : INFO : PROGRESS: at 44.81% examples, 238190 words/s, in_qsize 15, out_qsize 0\n",
      "2017-12-21 11:54:02,674 : INFO : PROGRESS: at 44.98% examples, 238224 words/s, in_qsize 15, out_qsize 0\n",
      "2017-12-21 11:54:03,721 : INFO : PROGRESS: at 45.14% examples, 238229 words/s, in_qsize 16, out_qsize 0\n",
      "2017-12-21 11:54:04,717 : INFO : PROGRESS: at 45.29% examples, 238205 words/s, in_qsize 15, out_qsize 0\n",
      "2017-12-21 11:54:05,764 : INFO : PROGRESS: at 45.47% examples, 238226 words/s, in_qsize 15, out_qsize 0\n",
      "2017-12-21 11:54:06,763 : INFO : PROGRESS: at 45.62% examples, 238248 words/s, in_qsize 14, out_qsize 0\n",
      "2017-12-21 11:54:07,794 : INFO : PROGRESS: at 45.80% examples, 238249 words/s, in_qsize 16, out_qsize 0\n",
      "2017-12-21 11:54:08,817 : INFO : PROGRESS: at 45.96% examples, 238239 words/s, in_qsize 15, out_qsize 0\n",
      "2017-12-21 11:54:09,817 : INFO : PROGRESS: at 46.13% examples, 238285 words/s, in_qsize 14, out_qsize 0\n",
      "2017-12-21 11:54:10,864 : INFO : PROGRESS: at 46.28% examples, 238255 words/s, in_qsize 15, out_qsize 0\n",
      "2017-12-21 11:54:11,870 : INFO : PROGRESS: at 46.44% examples, 238305 words/s, in_qsize 15, out_qsize 0\n",
      "2017-12-21 11:54:12,885 : INFO : PROGRESS: at 46.60% examples, 238312 words/s, in_qsize 15, out_qsize 0\n",
      "2017-12-21 11:54:13,900 : INFO : PROGRESS: at 46.74% examples, 238403 words/s, in_qsize 15, out_qsize 0\n",
      "2017-12-21 11:54:14,900 : INFO : PROGRESS: at 46.89% examples, 238417 words/s, in_qsize 15, out_qsize 0\n",
      "2017-12-21 11:54:15,900 : INFO : PROGRESS: at 47.04% examples, 238434 words/s, in_qsize 15, out_qsize 0\n",
      "2017-12-21 11:54:16,971 : INFO : PROGRESS: at 47.18% examples, 238463 words/s, in_qsize 15, out_qsize 0\n",
      "2017-12-21 11:54:17,986 : INFO : PROGRESS: at 47.35% examples, 238519 words/s, in_qsize 12, out_qsize 0\n",
      "2017-12-21 11:54:19,012 : INFO : PROGRESS: at 47.50% examples, 238502 words/s, in_qsize 15, out_qsize 0\n",
      "2017-12-21 11:54:20,044 : INFO : PROGRESS: at 47.66% examples, 238509 words/s, in_qsize 16, out_qsize 0\n",
      "2017-12-21 11:54:21,054 : INFO : PROGRESS: at 47.85% examples, 238527 words/s, in_qsize 15, out_qsize 0\n",
      "2017-12-21 11:54:22,069 : INFO : PROGRESS: at 48.03% examples, 238560 words/s, in_qsize 12, out_qsize 1\n",
      "2017-12-21 11:54:23,090 : INFO : PROGRESS: at 48.22% examples, 238558 words/s, in_qsize 15, out_qsize 0\n",
      "2017-12-21 11:54:24,121 : INFO : PROGRESS: at 48.41% examples, 238605 words/s, in_qsize 15, out_qsize 0\n",
      "2017-12-21 11:54:25,137 : INFO : PROGRESS: at 48.57% examples, 238603 words/s, in_qsize 15, out_qsize 0\n",
      "2017-12-21 11:54:26,147 : INFO : PROGRESS: at 48.72% examples, 238623 words/s, in_qsize 15, out_qsize 0\n",
      "2017-12-21 11:54:27,162 : INFO : PROGRESS: at 48.87% examples, 238611 words/s, in_qsize 15, out_qsize 0\n",
      "2017-12-21 11:54:28,171 : INFO : PROGRESS: at 49.03% examples, 238645 words/s, in_qsize 15, out_qsize 0\n",
      "2017-12-21 11:54:29,202 : INFO : PROGRESS: at 49.21% examples, 238642 words/s, in_qsize 16, out_qsize 0\n",
      "2017-12-21 11:54:30,202 : INFO : PROGRESS: at 49.34% examples, 238685 words/s, in_qsize 12, out_qsize 0\n",
      "2017-12-21 11:54:31,209 : INFO : PROGRESS: at 49.50% examples, 238671 words/s, in_qsize 15, out_qsize 0\n",
      "2017-12-21 11:54:32,256 : INFO : PROGRESS: at 49.68% examples, 238671 words/s, in_qsize 15, out_qsize 0\n",
      "2017-12-21 11:54:33,278 : INFO : PROGRESS: at 49.83% examples, 238688 words/s, in_qsize 15, out_qsize 0\n",
      "2017-12-21 11:54:34,278 : INFO : PROGRESS: at 49.99% examples, 238721 words/s, in_qsize 15, out_qsize 0\n",
      "2017-12-21 11:54:35,289 : INFO : PROGRESS: at 50.13% examples, 238750 words/s, in_qsize 13, out_qsize 0\n",
      "2017-12-21 11:54:36,305 : INFO : PROGRESS: at 50.29% examples, 238750 words/s, in_qsize 15, out_qsize 0\n",
      "2017-12-21 11:54:37,305 : INFO : PROGRESS: at 50.47% examples, 238794 words/s, in_qsize 15, out_qsize 0\n",
      "2017-12-21 11:54:38,350 : INFO : PROGRESS: at 50.65% examples, 238785 words/s, in_qsize 16, out_qsize 0\n",
      "2017-12-21 11:54:39,350 : INFO : PROGRESS: at 50.81% examples, 238826 words/s, in_qsize 13, out_qsize 0\n",
      "2017-12-21 11:54:40,373 : INFO : PROGRESS: at 50.98% examples, 238827 words/s, in_qsize 16, out_qsize 0\n",
      "2017-12-21 11:54:41,373 : INFO : PROGRESS: at 51.15% examples, 238826 words/s, in_qsize 15, out_qsize 0\n",
      "2017-12-21 11:54:42,378 : INFO : PROGRESS: at 51.31% examples, 238876 words/s, in_qsize 15, out_qsize 0\n",
      "2017-12-21 11:54:43,425 : INFO : PROGRESS: at 51.43% examples, 238966 words/s, in_qsize 16, out_qsize 0\n",
      "2017-12-21 11:54:44,425 : INFO : PROGRESS: at 51.57% examples, 239147 words/s, in_qsize 16, out_qsize 0\n",
      "2017-12-21 11:54:45,451 : INFO : PROGRESS: at 51.72% examples, 239156 words/s, in_qsize 15, out_qsize 0\n",
      "2017-12-21 11:54:46,482 : INFO : PROGRESS: at 51.90% examples, 239180 words/s, in_qsize 16, out_qsize 0\n",
      "2017-12-21 11:54:47,489 : INFO : PROGRESS: at 52.06% examples, 239197 words/s, in_qsize 15, out_qsize 0\n",
      "2017-12-21 11:54:48,505 : INFO : PROGRESS: at 52.22% examples, 239234 words/s, in_qsize 16, out_qsize 0\n",
      "2017-12-21 11:54:49,508 : INFO : PROGRESS: at 52.37% examples, 239217 words/s, in_qsize 15, out_qsize 0\n",
      "2017-12-21 11:54:50,508 : INFO : PROGRESS: at 52.54% examples, 239257 words/s, in_qsize 15, out_qsize 0\n",
      "2017-12-21 11:54:51,555 : INFO : PROGRESS: at 52.71% examples, 239267 words/s, in_qsize 15, out_qsize 0\n",
      "2017-12-21 11:54:52,564 : INFO : PROGRESS: at 52.89% examples, 239294 words/s, in_qsize 15, out_qsize 0\n",
      "2017-12-21 11:54:53,580 : INFO : PROGRESS: at 53.05% examples, 239305 words/s, in_qsize 16, out_qsize 0\n",
      "2017-12-21 11:54:54,578 : INFO : PROGRESS: at 53.22% examples, 239341 words/s, in_qsize 13, out_qsize 0\n",
      "2017-12-21 11:54:55,594 : INFO : PROGRESS: at 53.38% examples, 239321 words/s, in_qsize 15, out_qsize 0\n",
      "2017-12-21 11:54:56,629 : INFO : PROGRESS: at 53.55% examples, 239358 words/s, in_qsize 15, out_qsize 0\n",
      "2017-12-21 11:54:57,645 : INFO : PROGRESS: at 53.73% examples, 239392 words/s, in_qsize 15, out_qsize 0\n",
      "2017-12-21 11:54:58,661 : INFO : PROGRESS: at 53.90% examples, 239393 words/s, in_qsize 16, out_qsize 0\n",
      "2017-12-21 11:54:59,682 : INFO : PROGRESS: at 54.07% examples, 239442 words/s, in_qsize 11, out_qsize 1\n"
     ]
    },
    {
     "name": "stderr",
     "output_type": "stream",
     "text": [
      "2017-12-21 11:55:00,698 : INFO : PROGRESS: at 54.25% examples, 239462 words/s, in_qsize 12, out_qsize 0\n",
      "2017-12-21 11:55:01,726 : INFO : PROGRESS: at 54.43% examples, 239488 words/s, in_qsize 15, out_qsize 0\n",
      "2017-12-21 11:55:02,757 : INFO : PROGRESS: at 54.57% examples, 239687 words/s, in_qsize 15, out_qsize 0\n",
      "2017-12-21 11:55:03,763 : INFO : PROGRESS: at 54.73% examples, 239777 words/s, in_qsize 15, out_qsize 0\n",
      "2017-12-21 11:55:04,779 : INFO : PROGRESS: at 54.90% examples, 239808 words/s, in_qsize 16, out_qsize 0\n",
      "2017-12-21 11:55:05,779 : INFO : PROGRESS: at 55.06% examples, 239831 words/s, in_qsize 16, out_qsize 0\n",
      "2017-12-21 11:55:06,786 : INFO : PROGRESS: at 55.24% examples, 239857 words/s, in_qsize 12, out_qsize 0\n",
      "2017-12-21 11:55:07,786 : INFO : PROGRESS: at 55.41% examples, 239859 words/s, in_qsize 14, out_qsize 0\n",
      "2017-12-21 11:55:08,853 : INFO : PROGRESS: at 55.57% examples, 239842 words/s, in_qsize 15, out_qsize 0\n",
      "2017-12-21 11:55:09,884 : INFO : PROGRESS: at 55.74% examples, 239903 words/s, in_qsize 16, out_qsize 0\n",
      "2017-12-21 11:55:10,884 : INFO : PROGRESS: at 55.90% examples, 239919 words/s, in_qsize 15, out_qsize 0\n",
      "2017-12-21 11:55:11,889 : INFO : PROGRESS: at 56.06% examples, 239944 words/s, in_qsize 15, out_qsize 0\n",
      "2017-12-21 11:55:12,889 : INFO : PROGRESS: at 56.24% examples, 239967 words/s, in_qsize 15, out_qsize 0\n",
      "2017-12-21 11:55:13,891 : INFO : PROGRESS: at 56.41% examples, 240005 words/s, in_qsize 14, out_qsize 0\n",
      "2017-12-21 11:55:14,907 : INFO : PROGRESS: at 56.58% examples, 240005 words/s, in_qsize 16, out_qsize 0\n",
      "2017-12-21 11:55:15,926 : INFO : PROGRESS: at 56.75% examples, 240044 words/s, in_qsize 15, out_qsize 0\n",
      "2017-12-21 11:55:16,958 : INFO : PROGRESS: at 56.90% examples, 240063 words/s, in_qsize 15, out_qsize 0\n",
      "2017-12-21 11:55:17,973 : INFO : PROGRESS: at 57.06% examples, 240069 words/s, in_qsize 14, out_qsize 0\n",
      "2017-12-21 11:55:19,025 : INFO : PROGRESS: at 57.21% examples, 240088 words/s, in_qsize 16, out_qsize 0\n",
      "2017-12-21 11:55:20,041 : INFO : PROGRESS: at 57.36% examples, 240163 words/s, in_qsize 15, out_qsize 0\n",
      "2017-12-21 11:55:21,109 : INFO : PROGRESS: at 57.52% examples, 240124 words/s, in_qsize 16, out_qsize 0\n",
      "2017-12-21 11:55:22,172 : INFO : PROGRESS: at 57.70% examples, 240143 words/s, in_qsize 15, out_qsize 0\n",
      "2017-12-21 11:55:23,180 : INFO : PROGRESS: at 57.86% examples, 240209 words/s, in_qsize 15, out_qsize 0\n",
      "2017-12-21 11:55:24,195 : INFO : PROGRESS: at 58.00% examples, 240244 words/s, in_qsize 15, out_qsize 0\n",
      "2017-12-21 11:55:25,242 : INFO : PROGRESS: at 58.17% examples, 240260 words/s, in_qsize 15, out_qsize 0\n",
      "2017-12-21 11:55:26,271 : INFO : PROGRESS: at 58.34% examples, 240262 words/s, in_qsize 15, out_qsize 0\n",
      "2017-12-21 11:55:27,287 : INFO : PROGRESS: at 58.48% examples, 240276 words/s, in_qsize 15, out_qsize 0\n",
      "2017-12-21 11:55:28,337 : INFO : PROGRESS: at 58.63% examples, 240327 words/s, in_qsize 15, out_qsize 0\n",
      "2017-12-21 11:55:29,352 : INFO : PROGRESS: at 58.79% examples, 240351 words/s, in_qsize 15, out_qsize 0\n",
      "2017-12-21 11:55:30,420 : INFO : PROGRESS: at 58.96% examples, 240354 words/s, in_qsize 16, out_qsize 0\n",
      "2017-12-21 11:55:31,420 : INFO : PROGRESS: at 59.12% examples, 240403 words/s, in_qsize 15, out_qsize 0\n",
      "2017-12-21 11:55:32,502 : INFO : PROGRESS: at 59.30% examples, 240423 words/s, in_qsize 15, out_qsize 0\n",
      "2017-12-21 11:55:33,533 : INFO : PROGRESS: at 59.50% examples, 240437 words/s, in_qsize 15, out_qsize 0\n",
      "2017-12-21 11:55:34,533 : INFO : PROGRESS: at 59.70% examples, 240492 words/s, in_qsize 15, out_qsize 0\n",
      "2017-12-21 11:55:35,544 : INFO : PROGRESS: at 59.87% examples, 240486 words/s, in_qsize 16, out_qsize 0\n",
      "2017-12-21 11:55:36,544 : INFO : PROGRESS: at 60.03% examples, 240524 words/s, in_qsize 15, out_qsize 0\n",
      "2017-12-21 11:55:37,559 : INFO : PROGRESS: at 60.11% examples, 240511 words/s, in_qsize 15, out_qsize 0\n",
      "2017-12-21 11:55:38,575 : INFO : PROGRESS: at 60.21% examples, 240481 words/s, in_qsize 15, out_qsize 0\n",
      "2017-12-21 11:55:39,575 : INFO : PROGRESS: at 60.32% examples, 240480 words/s, in_qsize 15, out_qsize 0\n",
      "2017-12-21 11:55:40,590 : INFO : PROGRESS: at 60.44% examples, 240465 words/s, in_qsize 15, out_qsize 0\n",
      "2017-12-21 11:55:41,606 : INFO : PROGRESS: at 60.56% examples, 240458 words/s, in_qsize 15, out_qsize 0\n",
      "2017-12-21 11:55:42,618 : INFO : PROGRESS: at 60.68% examples, 240445 words/s, in_qsize 15, out_qsize 0\n",
      "2017-12-21 11:55:43,618 : INFO : PROGRESS: at 60.80% examples, 240441 words/s, in_qsize 15, out_qsize 0\n",
      "2017-12-21 11:55:44,685 : INFO : PROGRESS: at 60.95% examples, 240422 words/s, in_qsize 15, out_qsize 0\n",
      "2017-12-21 11:55:45,685 : INFO : PROGRESS: at 61.08% examples, 240450 words/s, in_qsize 15, out_qsize 0\n",
      "2017-12-21 11:55:46,717 : INFO : PROGRESS: at 61.22% examples, 240434 words/s, in_qsize 16, out_qsize 0\n",
      "2017-12-21 11:55:47,704 : INFO : PROGRESS: at 61.36% examples, 240412 words/s, in_qsize 15, out_qsize 0\n",
      "2017-12-21 11:55:48,720 : INFO : PROGRESS: at 61.50% examples, 240425 words/s, in_qsize 14, out_qsize 0\n",
      "2017-12-21 11:55:49,763 : INFO : PROGRESS: at 61.65% examples, 240401 words/s, in_qsize 15, out_qsize 0\n",
      "2017-12-21 11:55:50,779 : INFO : PROGRESS: at 61.78% examples, 240434 words/s, in_qsize 12, out_qsize 0\n",
      "2017-12-21 11:55:51,787 : INFO : PROGRESS: at 61.93% examples, 240424 words/s, in_qsize 14, out_qsize 0\n",
      "2017-12-21 11:55:52,787 : INFO : PROGRESS: at 62.07% examples, 240426 words/s, in_qsize 14, out_qsize 0\n",
      "2017-12-21 11:55:53,803 : INFO : PROGRESS: at 62.20% examples, 240418 words/s, in_qsize 15, out_qsize 0\n",
      "2017-12-21 11:55:54,855 : INFO : PROGRESS: at 62.35% examples, 240439 words/s, in_qsize 16, out_qsize 0\n",
      "2017-12-21 11:55:55,855 : INFO : PROGRESS: at 62.50% examples, 240431 words/s, in_qsize 16, out_qsize 0\n",
      "2017-12-21 11:55:56,868 : INFO : PROGRESS: at 62.64% examples, 240429 words/s, in_qsize 16, out_qsize 0\n",
      "2017-12-21 11:55:57,868 : INFO : PROGRESS: at 62.80% examples, 240427 words/s, in_qsize 15, out_qsize 0\n",
      "2017-12-21 11:55:58,879 : INFO : PROGRESS: at 62.96% examples, 240437 words/s, in_qsize 16, out_qsize 0\n",
      "2017-12-21 11:55:59,894 : INFO : PROGRESS: at 63.11% examples, 240436 words/s, in_qsize 16, out_qsize 0\n",
      "2017-12-21 11:56:00,910 : INFO : PROGRESS: at 63.24% examples, 240438 words/s, in_qsize 16, out_qsize 0\n",
      "2017-12-21 11:56:01,921 : INFO : PROGRESS: at 63.40% examples, 240468 words/s, in_qsize 15, out_qsize 0\n",
      "2017-12-21 11:56:02,921 : INFO : PROGRESS: at 63.54% examples, 240468 words/s, in_qsize 14, out_qsize 1\n",
      "2017-12-21 11:56:04,009 : INFO : PROGRESS: at 63.71% examples, 240431 words/s, in_qsize 15, out_qsize 0\n",
      "2017-12-21 11:56:05,009 : INFO : PROGRESS: at 63.88% examples, 240464 words/s, in_qsize 14, out_qsize 0\n",
      "2017-12-21 11:56:06,045 : INFO : PROGRESS: at 64.01% examples, 240474 words/s, in_qsize 15, out_qsize 0\n",
      "2017-12-21 11:56:07,045 : INFO : PROGRESS: at 64.14% examples, 240488 words/s, in_qsize 16, out_qsize 0\n",
      "2017-12-21 11:56:08,061 : INFO : PROGRESS: at 64.31% examples, 240506 words/s, in_qsize 12, out_qsize 0\n",
      "2017-12-21 11:56:09,055 : INFO : PROGRESS: at 64.46% examples, 240483 words/s, in_qsize 15, out_qsize 0\n",
      "2017-12-21 11:56:10,071 : INFO : PROGRESS: at 64.62% examples, 240492 words/s, in_qsize 15, out_qsize 0\n",
      "2017-12-21 11:56:11,092 : INFO : PROGRESS: at 64.78% examples, 240502 words/s, in_qsize 15, out_qsize 0\n",
      "2017-12-21 11:56:12,107 : INFO : PROGRESS: at 64.95% examples, 240500 words/s, in_qsize 15, out_qsize 0\n",
      "2017-12-21 11:56:13,127 : INFO : PROGRESS: at 65.11% examples, 240505 words/s, in_qsize 16, out_qsize 0\n",
      "2017-12-21 11:56:14,143 : INFO : PROGRESS: at 65.26% examples, 240487 words/s, in_qsize 15, out_qsize 0\n",
      "2017-12-21 11:56:15,143 : INFO : PROGRESS: at 65.44% examples, 240519 words/s, in_qsize 15, out_qsize 0\n",
      "2017-12-21 11:56:16,165 : INFO : PROGRESS: at 65.60% examples, 240521 words/s, in_qsize 15, out_qsize 0\n",
      "2017-12-21 11:56:17,181 : INFO : PROGRESS: at 65.77% examples, 240536 words/s, in_qsize 15, out_qsize 0\n",
      "2017-12-21 11:56:18,178 : INFO : PROGRESS: at 65.93% examples, 240526 words/s, in_qsize 15, out_qsize 0\n",
      "2017-12-21 11:56:19,194 : INFO : PROGRESS: at 66.10% examples, 240559 words/s, in_qsize 14, out_qsize 0\n",
      "2017-12-21 11:56:20,225 : INFO : PROGRESS: at 66.26% examples, 240530 words/s, in_qsize 16, out_qsize 0\n"
     ]
    },
    {
     "name": "stderr",
     "output_type": "stream",
     "text": [
      "2017-12-21 11:56:21,229 : INFO : PROGRESS: at 66.41% examples, 240571 words/s, in_qsize 13, out_qsize 0\n",
      "2017-12-21 11:56:22,244 : INFO : PROGRESS: at 66.58% examples, 240558 words/s, in_qsize 15, out_qsize 0\n",
      "2017-12-21 11:56:23,263 : INFO : PROGRESS: at 66.72% examples, 240628 words/s, in_qsize 16, out_qsize 0\n",
      "2017-12-21 11:56:24,294 : INFO : PROGRESS: at 66.87% examples, 240636 words/s, in_qsize 15, out_qsize 0\n",
      "2017-12-21 11:56:25,289 : INFO : PROGRESS: at 67.02% examples, 240643 words/s, in_qsize 15, out_qsize 0\n",
      "2017-12-21 11:56:26,305 : INFO : PROGRESS: at 67.16% examples, 240668 words/s, in_qsize 15, out_qsize 0\n",
      "2017-12-21 11:56:27,321 : INFO : PROGRESS: at 67.33% examples, 240699 words/s, in_qsize 15, out_qsize 0\n",
      "2017-12-21 11:56:28,365 : INFO : PROGRESS: at 67.48% examples, 240713 words/s, in_qsize 15, out_qsize 0\n",
      "2017-12-21 11:56:29,365 : INFO : PROGRESS: at 67.65% examples, 240724 words/s, in_qsize 15, out_qsize 0\n",
      "2017-12-21 11:56:30,387 : INFO : PROGRESS: at 67.83% examples, 240716 words/s, in_qsize 15, out_qsize 0\n",
      "2017-12-21 11:56:31,419 : INFO : PROGRESS: at 68.01% examples, 240715 words/s, in_qsize 16, out_qsize 0\n",
      "2017-12-21 11:56:32,452 : INFO : PROGRESS: at 68.20% examples, 240729 words/s, in_qsize 15, out_qsize 0\n",
      "2017-12-21 11:56:33,452 : INFO : PROGRESS: at 68.39% examples, 240748 words/s, in_qsize 15, out_qsize 0\n",
      "2017-12-21 11:56:34,468 : INFO : PROGRESS: at 68.56% examples, 240767 words/s, in_qsize 15, out_qsize 0\n",
      "2017-12-21 11:56:35,518 : INFO : PROGRESS: at 68.71% examples, 240768 words/s, in_qsize 15, out_qsize 0\n",
      "2017-12-21 11:56:36,534 : INFO : PROGRESS: at 68.86% examples, 240761 words/s, in_qsize 15, out_qsize 0\n",
      "2017-12-21 11:56:37,571 : INFO : PROGRESS: at 69.03% examples, 240789 words/s, in_qsize 16, out_qsize 0\n",
      "2017-12-21 11:56:38,587 : INFO : PROGRESS: at 69.21% examples, 240799 words/s, in_qsize 15, out_qsize 0\n",
      "2017-12-21 11:56:39,586 : INFO : PROGRESS: at 69.34% examples, 240816 words/s, in_qsize 15, out_qsize 0\n",
      "2017-12-21 11:56:40,586 : INFO : PROGRESS: at 69.50% examples, 240811 words/s, in_qsize 14, out_qsize 0\n",
      "2017-12-21 11:56:41,602 : INFO : PROGRESS: at 69.68% examples, 240819 words/s, in_qsize 14, out_qsize 0\n",
      "2017-12-21 11:56:42,592 : INFO : PROGRESS: at 69.82% examples, 240822 words/s, in_qsize 15, out_qsize 0\n",
      "2017-12-21 11:56:43,608 : INFO : PROGRESS: at 69.99% examples, 240841 words/s, in_qsize 16, out_qsize 0\n",
      "2017-12-21 11:56:44,619 : INFO : PROGRESS: at 70.12% examples, 240836 words/s, in_qsize 16, out_qsize 0\n",
      "2017-12-21 11:56:45,651 : INFO : PROGRESS: at 70.29% examples, 240850 words/s, in_qsize 15, out_qsize 0\n",
      "2017-12-21 11:56:46,654 : INFO : PROGRESS: at 70.47% examples, 240871 words/s, in_qsize 15, out_qsize 0\n",
      "2017-12-21 11:56:47,670 : INFO : PROGRESS: at 70.65% examples, 240884 words/s, in_qsize 15, out_qsize 0\n",
      "2017-12-21 11:56:48,701 : INFO : PROGRESS: at 70.81% examples, 240905 words/s, in_qsize 15, out_qsize 0\n",
      "2017-12-21 11:56:49,766 : INFO : PROGRESS: at 70.99% examples, 240896 words/s, in_qsize 16, out_qsize 0\n",
      "2017-12-21 11:56:50,797 : INFO : PROGRESS: at 71.16% examples, 240900 words/s, in_qsize 16, out_qsize 0\n",
      "2017-12-21 11:56:51,824 : INFO : PROGRESS: at 71.33% examples, 240948 words/s, in_qsize 15, out_qsize 0\n",
      "2017-12-21 11:56:52,855 : INFO : PROGRESS: at 71.45% examples, 241043 words/s, in_qsize 15, out_qsize 0\n",
      "2017-12-21 11:56:53,906 : INFO : PROGRESS: at 71.60% examples, 241132 words/s, in_qsize 16, out_qsize 0\n",
      "2017-12-21 11:56:54,906 : INFO : PROGRESS: at 71.76% examples, 241177 words/s, in_qsize 11, out_qsize 2\n",
      "2017-12-21 11:56:55,938 : INFO : PROGRESS: at 71.93% examples, 241179 words/s, in_qsize 15, out_qsize 0\n",
      "2017-12-21 11:56:56,943 : INFO : PROGRESS: at 72.09% examples, 241172 words/s, in_qsize 15, out_qsize 0\n",
      "2017-12-21 11:56:57,943 : INFO : PROGRESS: at 72.25% examples, 241195 words/s, in_qsize 15, out_qsize 0\n",
      "2017-12-21 11:56:58,965 : INFO : PROGRESS: at 72.40% examples, 241191 words/s, in_qsize 15, out_qsize 0\n",
      "2017-12-21 11:56:59,980 : INFO : PROGRESS: at 72.57% examples, 241225 words/s, in_qsize 16, out_qsize 0\n",
      "2017-12-21 11:57:01,016 : INFO : PROGRESS: at 72.74% examples, 241204 words/s, in_qsize 15, out_qsize 0\n",
      "2017-12-21 11:57:02,016 : INFO : PROGRESS: at 72.93% examples, 241249 words/s, in_qsize 15, out_qsize 0\n",
      "2017-12-21 11:57:03,032 : INFO : PROGRESS: at 73.09% examples, 241260 words/s, in_qsize 13, out_qsize 0\n",
      "2017-12-21 11:57:04,035 : INFO : PROGRESS: at 73.26% examples, 241267 words/s, in_qsize 14, out_qsize 0\n",
      "2017-12-21 11:57:05,035 : INFO : PROGRESS: at 73.42% examples, 241285 words/s, in_qsize 14, out_qsize 0\n",
      "2017-12-21 11:57:06,039 : INFO : PROGRESS: at 73.58% examples, 241287 words/s, in_qsize 15, out_qsize 0\n",
      "2017-12-21 11:57:07,039 : INFO : PROGRESS: at 73.76% examples, 241307 words/s, in_qsize 15, out_qsize 0\n",
      "2017-12-21 11:57:08,055 : INFO : PROGRESS: at 73.93% examples, 241310 words/s, in_qsize 15, out_qsize 0\n",
      "2017-12-21 11:57:09,076 : INFO : PROGRESS: at 74.10% examples, 241326 words/s, in_qsize 15, out_qsize 0\n",
      "2017-12-21 11:57:10,092 : INFO : PROGRESS: at 74.29% examples, 241360 words/s, in_qsize 15, out_qsize 0\n",
      "2017-12-21 11:57:11,095 : INFO : PROGRESS: at 74.47% examples, 241393 words/s, in_qsize 14, out_qsize 0\n",
      "2017-12-21 11:57:12,127 : INFO : PROGRESS: at 74.59% examples, 241551 words/s, in_qsize 15, out_qsize 0\n",
      "2017-12-21 11:57:13,162 : INFO : PROGRESS: at 74.77% examples, 241575 words/s, in_qsize 15, out_qsize 0\n",
      "2017-12-21 11:57:14,209 : INFO : PROGRESS: at 74.94% examples, 241607 words/s, in_qsize 15, out_qsize 0\n",
      "2017-12-21 11:57:15,209 : INFO : PROGRESS: at 75.10% examples, 241608 words/s, in_qsize 15, out_qsize 0\n",
      "2017-12-21 11:57:16,211 : INFO : PROGRESS: at 75.28% examples, 241616 words/s, in_qsize 15, out_qsize 0\n",
      "2017-12-21 11:57:17,211 : INFO : PROGRESS: at 75.45% examples, 241636 words/s, in_qsize 14, out_qsize 1\n",
      "2017-12-21 11:57:18,212 : INFO : PROGRESS: at 75.62% examples, 241646 words/s, in_qsize 15, out_qsize 0\n",
      "2017-12-21 11:57:19,228 : INFO : PROGRESS: at 75.77% examples, 241661 words/s, in_qsize 15, out_qsize 0\n",
      "2017-12-21 11:57:20,241 : INFO : PROGRESS: at 75.93% examples, 241685 words/s, in_qsize 14, out_qsize 0\n",
      "2017-12-21 11:57:21,241 : INFO : PROGRESS: at 76.10% examples, 241703 words/s, in_qsize 15, out_qsize 0\n",
      "2017-12-21 11:57:22,241 : INFO : PROGRESS: at 76.28% examples, 241718 words/s, in_qsize 15, out_qsize 0\n",
      "2017-12-21 11:57:23,260 : INFO : PROGRESS: at 76.46% examples, 241743 words/s, in_qsize 16, out_qsize 0\n",
      "2017-12-21 11:57:24,260 : INFO : PROGRESS: at 76.63% examples, 241756 words/s, in_qsize 15, out_qsize 0\n",
      "2017-12-21 11:57:25,267 : INFO : PROGRESS: at 76.78% examples, 241747 words/s, in_qsize 15, out_qsize 0\n",
      "2017-12-21 11:57:26,282 : INFO : PROGRESS: at 76.93% examples, 241783 words/s, in_qsize 15, out_qsize 0\n",
      "2017-12-21 11:57:27,301 : INFO : PROGRESS: at 77.09% examples, 241768 words/s, in_qsize 16, out_qsize 0\n",
      "2017-12-21 11:57:28,301 : INFO : PROGRESS: at 77.23% examples, 241789 words/s, in_qsize 15, out_qsize 0\n",
      "2017-12-21 11:57:29,301 : INFO : PROGRESS: at 77.38% examples, 241836 words/s, in_qsize 15, out_qsize 0\n",
      "2017-12-21 11:57:30,304 : INFO : PROGRESS: at 77.54% examples, 241836 words/s, in_qsize 16, out_qsize 0\n",
      "2017-12-21 11:57:31,320 : INFO : PROGRESS: at 77.71% examples, 241828 words/s, in_qsize 16, out_qsize 0\n",
      "2017-12-21 11:57:32,363 : INFO : PROGRESS: at 77.87% examples, 241857 words/s, in_qsize 15, out_qsize 0\n",
      "2017-12-21 11:57:33,379 : INFO : PROGRESS: at 78.01% examples, 241892 words/s, in_qsize 16, out_qsize 0\n",
      "2017-12-21 11:57:34,379 : INFO : PROGRESS: at 78.18% examples, 241912 words/s, in_qsize 14, out_qsize 0\n",
      "2017-12-21 11:57:35,393 : INFO : PROGRESS: at 78.35% examples, 241919 words/s, in_qsize 15, out_qsize 0\n",
      "2017-12-21 11:57:36,393 : INFO : PROGRESS: at 78.48% examples, 241928 words/s, in_qsize 16, out_qsize 0\n",
      "2017-12-21 11:57:37,415 : INFO : PROGRESS: at 78.63% examples, 241951 words/s, in_qsize 16, out_qsize 0\n",
      "2017-12-21 11:57:38,430 : INFO : PROGRESS: at 78.79% examples, 241981 words/s, in_qsize 15, out_qsize 0\n",
      "2017-12-21 11:57:39,481 : INFO : PROGRESS: at 78.96% examples, 241975 words/s, in_qsize 16, out_qsize 0\n",
      "2017-12-21 11:57:40,497 : INFO : PROGRESS: at 79.12% examples, 242007 words/s, in_qsize 14, out_qsize 1\n"
     ]
    },
    {
     "name": "stderr",
     "output_type": "stream",
     "text": [
      "2017-12-21 11:57:41,497 : INFO : PROGRESS: at 79.29% examples, 242036 words/s, in_qsize 16, out_qsize 0\n",
      "2017-12-21 11:57:42,498 : INFO : PROGRESS: at 79.49% examples, 242038 words/s, in_qsize 15, out_qsize 0\n",
      "2017-12-21 11:57:43,514 : INFO : PROGRESS: at 79.67% examples, 242049 words/s, in_qsize 15, out_qsize 0\n",
      "2017-12-21 11:57:44,537 : INFO : PROGRESS: at 79.87% examples, 242084 words/s, in_qsize 15, out_qsize 0\n",
      "2017-12-21 11:57:45,537 : INFO : PROGRESS: at 80.02% examples, 242095 words/s, in_qsize 15, out_qsize 0\n",
      "2017-12-21 11:57:46,541 : INFO : PROGRESS: at 80.10% examples, 242080 words/s, in_qsize 15, out_qsize 0\n",
      "2017-12-21 11:57:47,556 : INFO : PROGRESS: at 80.21% examples, 242065 words/s, in_qsize 15, out_qsize 0\n",
      "2017-12-21 11:57:48,557 : INFO : PROGRESS: at 80.31% examples, 242057 words/s, in_qsize 15, out_qsize 0\n",
      "2017-12-21 11:57:49,590 : INFO : PROGRESS: at 80.44% examples, 242041 words/s, in_qsize 15, out_qsize 0\n",
      "2017-12-21 11:57:50,621 : INFO : PROGRESS: at 80.55% examples, 242034 words/s, in_qsize 15, out_qsize 0\n",
      "2017-12-21 11:57:51,651 : INFO : PROGRESS: at 80.68% examples, 242018 words/s, in_qsize 15, out_qsize 0\n",
      "2017-12-21 11:57:52,667 : INFO : PROGRESS: at 80.80% examples, 242010 words/s, in_qsize 15, out_qsize 0\n",
      "2017-12-21 11:57:53,715 : INFO : PROGRESS: at 80.95% examples, 242003 words/s, in_qsize 15, out_qsize 0\n",
      "2017-12-21 11:57:54,747 : INFO : PROGRESS: at 81.08% examples, 242013 words/s, in_qsize 15, out_qsize 0\n",
      "2017-12-21 11:57:55,747 : INFO : PROGRESS: at 81.22% examples, 242000 words/s, in_qsize 15, out_qsize 0\n",
      "2017-12-21 11:57:56,760 : INFO : PROGRESS: at 81.36% examples, 241989 words/s, in_qsize 15, out_qsize 0\n",
      "2017-12-21 11:57:57,791 : INFO : PROGRESS: at 81.51% examples, 241993 words/s, in_qsize 15, out_qsize 0\n",
      "2017-12-21 11:57:58,806 : INFO : PROGRESS: at 81.65% examples, 241979 words/s, in_qsize 16, out_qsize 0\n",
      "2017-12-21 11:57:59,822 : INFO : PROGRESS: at 81.78% examples, 241990 words/s, in_qsize 15, out_qsize 0\n",
      "2017-12-21 11:58:00,861 : INFO : PROGRESS: at 81.94% examples, 241977 words/s, in_qsize 16, out_qsize 0\n",
      "2017-12-21 11:58:01,908 : INFO : PROGRESS: at 82.08% examples, 241971 words/s, in_qsize 16, out_qsize 0\n",
      "2017-12-21 11:58:02,955 : INFO : PROGRESS: at 82.23% examples, 241983 words/s, in_qsize 15, out_qsize 0\n",
      "2017-12-21 11:58:03,992 : INFO : PROGRESS: at 82.37% examples, 241993 words/s, in_qsize 15, out_qsize 0\n",
      "2017-12-21 11:58:05,007 : INFO : PROGRESS: at 82.53% examples, 241988 words/s, in_qsize 15, out_qsize 0\n",
      "2017-12-21 11:58:06,013 : INFO : PROGRESS: at 82.67% examples, 241982 words/s, in_qsize 15, out_qsize 0\n",
      "2017-12-21 11:58:07,044 : INFO : PROGRESS: at 82.82% examples, 241984 words/s, in_qsize 15, out_qsize 0\n",
      "2017-12-21 11:58:08,112 : INFO : PROGRESS: at 82.99% examples, 241970 words/s, in_qsize 15, out_qsize 0\n",
      "2017-12-21 11:58:09,128 : INFO : PROGRESS: at 83.15% examples, 241989 words/s, in_qsize 15, out_qsize 0\n",
      "2017-12-21 11:58:10,128 : INFO : PROGRESS: at 83.28% examples, 242006 words/s, in_qsize 15, out_qsize 0\n",
      "2017-12-21 11:58:11,126 : INFO : PROGRESS: at 83.43% examples, 241994 words/s, in_qsize 15, out_qsize 0\n",
      "2017-12-21 11:58:12,142 : INFO : PROGRESS: at 83.58% examples, 242006 words/s, in_qsize 15, out_qsize 0\n",
      "2017-12-21 11:58:13,146 : INFO : PROGRESS: at 83.74% examples, 242001 words/s, in_qsize 14, out_qsize 0\n",
      "2017-12-21 11:58:14,146 : INFO : PROGRESS: at 83.90% examples, 241996 words/s, in_qsize 15, out_qsize 0\n",
      "2017-12-21 11:58:15,198 : INFO : PROGRESS: at 84.03% examples, 241994 words/s, in_qsize 15, out_qsize 0\n",
      "2017-12-21 11:58:16,198 : INFO : PROGRESS: at 84.18% examples, 242035 words/s, in_qsize 12, out_qsize 0\n",
      "2017-12-21 11:58:17,214 : INFO : PROGRESS: at 84.33% examples, 242022 words/s, in_qsize 15, out_qsize 0\n",
      "2017-12-21 11:58:18,217 : INFO : PROGRESS: at 84.50% examples, 242027 words/s, in_qsize 16, out_qsize 0\n",
      "2017-12-21 11:58:19,217 : INFO : PROGRESS: at 84.65% examples, 242025 words/s, in_qsize 15, out_qsize 0\n",
      "2017-12-21 11:58:20,239 : INFO : PROGRESS: at 84.82% examples, 242019 words/s, in_qsize 15, out_qsize 0\n",
      "2017-12-21 11:58:21,255 : INFO : PROGRESS: at 84.98% examples, 242016 words/s, in_qsize 15, out_qsize 0\n",
      "2017-12-21 11:58:22,270 : INFO : PROGRESS: at 85.14% examples, 242025 words/s, in_qsize 16, out_qsize 0\n",
      "2017-12-21 11:58:23,264 : INFO : PROGRESS: at 85.30% examples, 242016 words/s, in_qsize 15, out_qsize 0\n",
      "2017-12-21 11:58:24,280 : INFO : PROGRESS: at 85.47% examples, 242025 words/s, in_qsize 15, out_qsize 0\n",
      "2017-12-21 11:58:25,269 : INFO : PROGRESS: at 85.63% examples, 242038 words/s, in_qsize 13, out_qsize 0\n",
      "2017-12-21 11:58:26,285 : INFO : PROGRESS: at 85.80% examples, 242024 words/s, in_qsize 15, out_qsize 0\n",
      "2017-12-21 11:58:27,306 : INFO : PROGRESS: at 85.96% examples, 242021 words/s, in_qsize 15, out_qsize 0\n",
      "2017-12-21 11:58:28,384 : INFO : PROGRESS: at 86.14% examples, 242029 words/s, in_qsize 15, out_qsize 0\n",
      "2017-12-21 11:58:29,400 : INFO : PROGRESS: at 86.29% examples, 242032 words/s, in_qsize 16, out_qsize 0\n",
      "2017-12-21 11:58:30,410 : INFO : PROGRESS: at 86.45% examples, 242055 words/s, in_qsize 16, out_qsize 0\n",
      "2017-12-21 11:58:31,425 : INFO : PROGRESS: at 86.62% examples, 242057 words/s, in_qsize 15, out_qsize 0\n",
      "2017-12-21 11:58:32,421 : INFO : PROGRESS: at 86.75% examples, 242104 words/s, in_qsize 14, out_qsize 0\n",
      "2017-12-21 11:58:33,452 : INFO : PROGRESS: at 86.91% examples, 242106 words/s, in_qsize 15, out_qsize 0\n",
      "2017-12-21 11:58:34,463 : INFO : PROGRESS: at 87.06% examples, 242105 words/s, in_qsize 15, out_qsize 0\n",
      "2017-12-21 11:58:35,464 : INFO : PROGRESS: at 87.20% examples, 242133 words/s, in_qsize 13, out_qsize 0\n",
      "2017-12-21 11:58:36,495 : INFO : PROGRESS: at 87.36% examples, 242136 words/s, in_qsize 15, out_qsize 0\n",
      "2017-12-21 11:58:37,507 : INFO : PROGRESS: at 87.51% examples, 242139 words/s, in_qsize 15, out_qsize 0\n",
      "2017-12-21 11:58:38,507 : INFO : PROGRESS: at 87.68% examples, 242146 words/s, in_qsize 15, out_qsize 0\n",
      "2017-12-21 11:58:39,513 : INFO : PROGRESS: at 87.86% examples, 242144 words/s, in_qsize 15, out_qsize 0\n",
      "2017-12-21 11:58:40,560 : INFO : PROGRESS: at 88.04% examples, 242134 words/s, in_qsize 16, out_qsize 0\n",
      "2017-12-21 11:58:41,564 : INFO : PROGRESS: at 88.23% examples, 242130 words/s, in_qsize 15, out_qsize 0\n",
      "2017-12-21 11:58:42,580 : INFO : PROGRESS: at 88.42% examples, 242166 words/s, in_qsize 15, out_qsize 0\n",
      "2017-12-21 11:58:43,627 : INFO : PROGRESS: at 88.60% examples, 242168 words/s, in_qsize 15, out_qsize 0\n",
      "2017-12-21 11:58:44,630 : INFO : PROGRESS: at 88.75% examples, 242179 words/s, in_qsize 14, out_qsize 0\n",
      "2017-12-21 11:58:45,661 : INFO : PROGRESS: at 88.89% examples, 242181 words/s, in_qsize 15, out_qsize 0\n",
      "2017-12-21 11:58:46,676 : INFO : PROGRESS: at 89.07% examples, 242183 words/s, in_qsize 15, out_qsize 0\n",
      "2017-12-21 11:58:47,692 : INFO : PROGRESS: at 89.23% examples, 242195 words/s, in_qsize 14, out_qsize 0\n",
      "2017-12-21 11:58:48,715 : INFO : PROGRESS: at 89.37% examples, 242190 words/s, in_qsize 15, out_qsize 0\n",
      "2017-12-21 11:58:49,747 : INFO : PROGRESS: at 89.53% examples, 242184 words/s, in_qsize 15, out_qsize 0\n",
      "2017-12-21 11:58:50,778 : INFO : PROGRESS: at 89.71% examples, 242186 words/s, in_qsize 15, out_qsize 0\n",
      "2017-12-21 11:58:51,842 : INFO : PROGRESS: at 89.87% examples, 242192 words/s, in_qsize 15, out_qsize 0\n",
      "2017-12-21 11:58:52,842 : INFO : PROGRESS: at 90.03% examples, 242203 words/s, in_qsize 15, out_qsize 0\n",
      "2017-12-21 11:58:53,872 : INFO : PROGRESS: at 90.18% examples, 242206 words/s, in_qsize 15, out_qsize 0\n",
      "2017-12-21 11:58:54,919 : INFO : PROGRESS: at 90.34% examples, 242218 words/s, in_qsize 15, out_qsize 0\n",
      "2017-12-21 11:58:55,960 : INFO : PROGRESS: at 90.54% examples, 242217 words/s, in_qsize 15, out_qsize 0\n",
      "2017-12-21 11:58:57,007 : INFO : PROGRESS: at 90.72% examples, 242234 words/s, in_qsize 15, out_qsize 0\n",
      "2017-12-21 11:58:58,086 : INFO : PROGRESS: at 90.88% examples, 242230 words/s, in_qsize 15, out_qsize 0\n",
      "2017-12-21 11:58:59,110 : INFO : PROGRESS: at 91.06% examples, 242242 words/s, in_qsize 15, out_qsize 0\n",
      "2017-12-21 11:59:00,110 : INFO : PROGRESS: at 91.23% examples, 242262 words/s, in_qsize 14, out_qsize 0\n",
      "2017-12-21 11:59:01,127 : INFO : PROGRESS: at 91.35% examples, 242251 words/s, in_qsize 15, out_qsize 0\n"
     ]
    },
    {
     "name": "stderr",
     "output_type": "stream",
     "text": [
      "2017-12-21 11:59:02,127 : INFO : PROGRESS: at 91.49% examples, 242380 words/s, in_qsize 15, out_qsize 0\n",
      "2017-12-21 11:59:03,145 : INFO : PROGRESS: at 91.62% examples, 242415 words/s, in_qsize 15, out_qsize 0\n",
      "2017-12-21 11:59:04,161 : INFO : PROGRESS: at 91.80% examples, 242418 words/s, in_qsize 16, out_qsize 0\n",
      "2017-12-21 11:59:05,176 : INFO : PROGRESS: at 91.98% examples, 242433 words/s, in_qsize 16, out_qsize 0\n",
      "2017-12-21 11:59:06,179 : INFO : PROGRESS: at 92.13% examples, 242437 words/s, in_qsize 15, out_qsize 0\n",
      "2017-12-21 11:59:07,210 : INFO : PROGRESS: at 92.29% examples, 242432 words/s, in_qsize 16, out_qsize 0\n",
      "2017-12-21 11:59:08,215 : INFO : PROGRESS: at 92.44% examples, 242439 words/s, in_qsize 15, out_qsize 0\n",
      "2017-12-21 11:59:09,231 : INFO : PROGRESS: at 92.61% examples, 242445 words/s, in_qsize 16, out_qsize 0\n",
      "2017-12-21 11:59:10,242 : INFO : PROGRESS: at 92.79% examples, 242464 words/s, in_qsize 13, out_qsize 0\n",
      "2017-12-21 11:59:11,289 : INFO : PROGRESS: at 92.97% examples, 242460 words/s, in_qsize 16, out_qsize 0\n",
      "2017-12-21 11:59:12,383 : INFO : PROGRESS: at 93.13% examples, 242448 words/s, in_qsize 16, out_qsize 0\n",
      "2017-12-21 11:59:13,379 : INFO : PROGRESS: at 93.32% examples, 242473 words/s, in_qsize 15, out_qsize 0\n",
      "2017-12-21 11:59:14,395 : INFO : PROGRESS: at 93.48% examples, 242483 words/s, in_qsize 15, out_qsize 0\n",
      "2017-12-21 11:59:15,401 : INFO : PROGRESS: at 93.65% examples, 242492 words/s, in_qsize 15, out_qsize 0\n",
      "2017-12-21 11:59:16,432 : INFO : PROGRESS: at 93.83% examples, 242504 words/s, in_qsize 15, out_qsize 0\n",
      "2017-12-21 11:59:17,499 : INFO : PROGRESS: at 94.00% examples, 242496 words/s, in_qsize 16, out_qsize 0\n",
      "2017-12-21 11:59:18,499 : INFO : PROGRESS: at 94.18% examples, 242520 words/s, in_qsize 14, out_qsize 1\n",
      "2017-12-21 11:59:19,499 : INFO : PROGRESS: at 94.36% examples, 242539 words/s, in_qsize 15, out_qsize 0\n",
      "2017-12-21 11:59:20,523 : INFO : PROGRESS: at 94.52% examples, 242586 words/s, in_qsize 15, out_qsize 0\n",
      "2017-12-21 11:59:21,524 : INFO : PROGRESS: at 94.67% examples, 242713 words/s, in_qsize 15, out_qsize 0\n",
      "2017-12-21 11:59:22,542 : INFO : PROGRESS: at 94.84% examples, 242711 words/s, in_qsize 15, out_qsize 0\n",
      "2017-12-21 11:59:23,558 : INFO : PROGRESS: at 95.00% examples, 242730 words/s, in_qsize 16, out_qsize 0\n",
      "2017-12-21 11:59:24,554 : INFO : PROGRESS: at 95.16% examples, 242714 words/s, in_qsize 15, out_qsize 0\n",
      "2017-12-21 11:59:25,570 : INFO : PROGRESS: at 95.34% examples, 242724 words/s, in_qsize 15, out_qsize 0\n",
      "2017-12-21 11:59:26,601 : INFO : PROGRESS: at 95.51% examples, 242724 words/s, in_qsize 15, out_qsize 0\n",
      "2017-12-21 11:59:27,622 : INFO : PROGRESS: at 95.67% examples, 242739 words/s, in_qsize 15, out_qsize 0\n",
      "2017-12-21 11:59:28,638 : INFO : PROGRESS: at 95.83% examples, 242740 words/s, in_qsize 15, out_qsize 0\n",
      "2017-12-21 11:59:29,661 : INFO : PROGRESS: at 96.00% examples, 242759 words/s, in_qsize 15, out_qsize 0\n",
      "2017-12-21 11:59:30,676 : INFO : PROGRESS: at 96.18% examples, 242779 words/s, in_qsize 14, out_qsize 0\n",
      "2017-12-21 11:59:31,695 : INFO : PROGRESS: at 96.34% examples, 242784 words/s, in_qsize 16, out_qsize 0\n",
      "2017-12-21 11:59:32,727 : INFO : PROGRESS: at 96.53% examples, 242795 words/s, in_qsize 15, out_qsize 0\n",
      "2017-12-21 11:59:33,727 : INFO : PROGRESS: at 96.70% examples, 242807 words/s, in_qsize 15, out_qsize 0\n",
      "2017-12-21 11:59:34,762 : INFO : PROGRESS: at 96.85% examples, 242809 words/s, in_qsize 15, out_qsize 0\n",
      "2017-12-21 11:59:35,793 : INFO : PROGRESS: at 97.00% examples, 242806 words/s, in_qsize 15, out_qsize 0\n",
      "2017-12-21 11:59:36,797 : INFO : PROGRESS: at 97.16% examples, 242825 words/s, in_qsize 15, out_qsize 0\n",
      "2017-12-21 11:59:37,797 : INFO : PROGRESS: at 97.29% examples, 242860 words/s, in_qsize 15, out_qsize 0\n",
      "2017-12-21 11:59:38,832 : INFO : PROGRESS: at 97.46% examples, 242858 words/s, in_qsize 15, out_qsize 0\n",
      "2017-12-21 11:59:39,833 : INFO : PROGRESS: at 97.62% examples, 242871 words/s, in_qsize 15, out_qsize 0\n",
      "2017-12-21 11:59:40,833 : INFO : PROGRESS: at 97.78% examples, 242877 words/s, in_qsize 15, out_qsize 0\n",
      "2017-12-21 11:59:41,856 : INFO : PROGRESS: at 97.93% examples, 242873 words/s, in_qsize 15, out_qsize 0\n",
      "2017-12-21 11:59:42,949 : INFO : PROGRESS: at 98.09% examples, 242892 words/s, in_qsize 15, out_qsize 0\n",
      "2017-12-21 11:59:43,968 : INFO : PROGRESS: at 98.27% examples, 242910 words/s, in_qsize 15, out_qsize 0\n",
      "2017-12-21 11:59:44,999 : INFO : PROGRESS: at 98.43% examples, 242897 words/s, in_qsize 15, out_qsize 0\n",
      "2017-12-21 11:59:46,011 : INFO : PROGRESS: at 98.55% examples, 242942 words/s, in_qsize 15, out_qsize 0\n",
      "2017-12-21 11:59:47,074 : INFO : PROGRESS: at 98.72% examples, 242941 words/s, in_qsize 15, out_qsize 0\n",
      "2017-12-21 11:59:48,089 : INFO : PROGRESS: at 98.89% examples, 242953 words/s, in_qsize 15, out_qsize 0\n",
      "2017-12-21 11:59:49,108 : INFO : PROGRESS: at 99.04% examples, 242947 words/s, in_qsize 16, out_qsize 0\n",
      "2017-12-21 11:59:50,123 : INFO : PROGRESS: at 99.21% examples, 242964 words/s, in_qsize 15, out_qsize 0\n",
      "2017-12-21 11:59:51,205 : INFO : PROGRESS: at 99.39% examples, 242964 words/s, in_qsize 15, out_qsize 0\n",
      "2017-12-21 11:59:52,205 : INFO : PROGRESS: at 99.60% examples, 242993 words/s, in_qsize 14, out_qsize 0\n",
      "2017-12-21 11:59:53,273 : INFO : PROGRESS: at 99.79% examples, 242986 words/s, in_qsize 15, out_qsize 0\n",
      "2017-12-21 11:59:54,164 : INFO : worker thread finished; awaiting finish of 7 more threads\n",
      "2017-12-21 11:59:54,180 : INFO : worker thread finished; awaiting finish of 6 more threads\n",
      "2017-12-21 11:59:54,227 : INFO : worker thread finished; awaiting finish of 5 more threads\n",
      "2017-12-21 11:59:54,227 : INFO : worker thread finished; awaiting finish of 4 more threads\n",
      "2017-12-21 11:59:54,227 : INFO : worker thread finished; awaiting finish of 3 more threads\n",
      "2017-12-21 11:59:54,258 : INFO : worker thread finished; awaiting finish of 2 more threads\n",
      "2017-12-21 11:59:54,258 : INFO : worker thread finished; awaiting finish of 1 more threads\n",
      "2017-12-21 11:59:54,289 : INFO : PROGRESS: at 100.00% examples, 243025 words/s, in_qsize 0, out_qsize 1\n",
      "2017-12-21 11:59:54,289 : INFO : worker thread finished; awaiting finish of 0 more threads\n",
      "2017-12-21 11:59:54,289 : INFO : training on 314608875 raw words (159320189 effective words) took 655.6s, 243025 effective words/s\n",
      "2017-12-21 11:59:54,289 : INFO : saving Word2Vec object under ./data/wiki.cn.model, separately None\n",
      "2017-12-21 11:59:54,289 : INFO : storing np array 'syn0' to ./data/wiki.cn.model.wv.syn0.npy\n",
      "2017-12-21 11:59:56,560 : INFO : not storing attribute syn0norm\n",
      "2017-12-21 11:59:56,560 : INFO : storing np array 'syn1neg' to ./data/wiki.cn.model.syn1neg.npy\n",
      "2017-12-21 11:59:58,968 : INFO : not storing attribute cum_table\n",
      "2017-12-21 12:00:00,015 : INFO : saved ./data/wiki.cn.model\n",
      "2017-12-21 12:00:00,015 : INFO : storing 450346x400 projection weights into ./data/wiki.cn.model.vector\n"
     ]
    },
    {
     "name": "stdout",
     "output_type": "stream",
     "text": [
      "Wall time: 12min 54s\n"
     ]
    }
   ],
   "source": [
    "%%time\n",
    "\n",
    "infile = './data/wiki.cn.txt'\n",
    "outfile = './data/wiki.cn.model'\n",
    "params ={'size' : 400, 'window' : 5, 'min_count':10, \n",
    "         'sg':1, # 使用skipgram，生成400维的映射\n",
    "         'workers' : multiprocessing.cpu_count()}\n",
    "model = Word2Vec(LineSentence(infile), **params)\n",
    "model.save(outfile)\n",
    "model.wv.save_word2vec_format(outfile + '.vector', binary=False)"
   ]
  },
  {
   "cell_type": "code",
   "execution_count": 23,
   "metadata": {},
   "outputs": [
    {
     "data": {
      "text/plain": [
       "0"
      ]
     },
     "execution_count": 23,
     "metadata": {},
     "output_type": "execute_result"
    }
   ],
   "source": [
    "del(model)\n",
    "gc.collect()"
   ]
  },
  {
   "cell_type": "markdown",
   "metadata": {},
   "source": [
    "介绍了这些必备知识以后我们需要根据双编码长短记忆模型来构造我们的对话模型。这里我们执行一个完整的建模流程，包括：\n",
    "1. 原始数据的读入。这里原始数据已经通过标注类的运算，将原来的文本单词替换为单词索引下标。\n",
    "2. 原始数据的处理。这里需要将原来的一来一往的对话构造成单独两人之间的多伦对话，其构造的模式如下图所示：\n",
    "![构造多轮对话](./images/MultiTurnDialog.png)\n",
    "3. 在keras中构造双编码长短记忆模型\n",
    "4. 使用 ***recall@N*** 来验证模型效果，并与TFIDF模型结果进行比较。\n",
    "\n",
    "其中，基本的数据操作都来自于[原作者网站](https://github.com/rkadlec/ubuntu-ranking-dataset-creator)。"
   ]
  },
  {
   "cell_type": "code",
   "execution_count": 24,
   "metadata": {
    "collapsed": true
   },
   "outputs": [],
   "source": [
    "import unicodecsv, csv"
   ]
  },
  {
   "cell_type": "markdown",
   "metadata": {},
   "source": [
    "我们先来看看原始数据的构成"
   ]
  },
  {
   "cell_type": "code",
   "execution_count": 25,
   "metadata": {},
   "outputs": [
    {
     "name": "stdout",
     "output_type": "stream",
     "text": [
      "['2012-08-27T05:54:00.000Z', 'Adie', '', \"it's weird\\n\"]\n",
      "['2012-08-27T05:54:00.000Z', 'Adie', '', 'ANVE YOU EVER SEEN SCREENS INTERSECTING? D:\\n']\n",
      "['2012-08-27T05:55:00.000Z', 'Adie', '', \"It's a 6970\\n\"]\n",
      "['2012-08-27T05:55:00.000Z', 'Adie', '', 'I enabled all three displays via CCC\\n']\n",
      "['2012-08-27T05:55:00.000Z', 'Adie', '', 'http://i.imgur.com/y2jrV.png\\n']\n",
      "['2012-08-27T05:55:00.000Z', 'Adie', '', \"that's what I end up with\\n\"]\n",
      "['2012-08-27T05:55:00.000Z', 'Adie', '', \"it's *funny*, but not what I want\\n\"]\n",
      "['2012-08-27T05:55:00.000Z', 'Adie', '', 'lol\\n']\n",
      "['2012-08-27T05:55:00.000Z', 'trevorj', 'Adie', 'sae card as me, nie\\n']\n",
      "['2012-08-27T05:56:00.000Z', 'trevorj', 'Adie', 'whats this picture of\\n']\n",
      "['2012-08-27T05:56:00.000Z', 'trevorj', 'Adie', 'two monitors?\\n']\n",
      "['2012-08-27T05:56:00.000Z', 'trevorj', 'Adie', 'wheres the third?\\n']\n",
      "['2012-08-27T05:56:00.000Z', 'trevorj', 'Adie', \"how did you connect the three screens? Does X see all three screens? (ie run 'xrandr' and see what outputs it sees)\\n\"]\n",
      "['2012-08-27T05:57:00.000Z', 'trevorj', 'Adie', 'oh shit\\n']\n"
     ]
    }
   ],
   "source": [
    "dialog_end_symbol = \"__dialog_end__\"\n",
    "end_of_utterance_symbol = \"__eou__\"\n",
    "end_of_turn_symbol = \"__eot__\"\n",
    "\n",
    "dialog_filename = './data/dataset_1MM/ubuntu_dialogs'\n",
    "counter = 0\n",
    "with open(dialog_filename, 'r', encoding='utf-8') as infile:\n",
    "    for line in infile:\n",
    "        if counter>1:\n",
    "            print(line.split('\\t'))\n",
    "        counter += 1\n",
    "        if counter > 15:\n",
    "            break"
   ]
  },
  {
   "cell_type": "code",
   "execution_count": 26,
   "metadata": {},
   "outputs": [
    {
     "name": "stdout",
     "output_type": "stream",
     "text": [
      "Wall time: 31.6 s\n"
     ]
    }
   ],
   "source": [
    "%%time \n",
    "# go through the dialog\n",
    "first_turn = True\n",
    "dialog = []\n",
    "same_user_utterances = []\n",
    "\n",
    "last_user = None\n",
    "dialog.append(same_user_utterances)\n",
    "\n",
    "#读入数据\n",
    "counter = 0\n",
    "with open(dialog_filename, 'r', encoding='utf-8') as infile:\n",
    "    for line in infile:            \n",
    "        terms = line.split('\\t')\n",
    "        if  (len(terms)>1) & (first_turn):\n",
    "            last_user = terms[1]\n",
    "            first_turn = False\n",
    "\n",
    "        if (len(terms)>1):\n",
    "            if (last_user != terms[1]):\n",
    "                # user has changed\n",
    "                same_user_utterances = []\n",
    "                dialog.append(same_user_utterances)\n",
    "            \n",
    "        if len(terms)>=2:\n",
    "            if len(terms)>=4:\n",
    "                same_user_utterances.append(terms[3])\n",
    "            last_user = terms[1]\n",
    "        \n",
    "        counter += 1\n",
    "\n",
    "    dialog.append([dialog_end_symbol])"
   ]
  },
  {
   "cell_type": "markdown",
   "metadata": {},
   "source": [
    "现在再来看看加工后的数据内容。现在的数据已经将属于同一个用户在同一个话题下的讨论装在一起了。"
   ]
  },
  {
   "cell_type": "code",
   "execution_count": 27,
   "metadata": {},
   "outputs": [
    {
     "data": {
      "text/plain": [
       "[['sae card as me, nie\\n',\n",
       "  'whats this picture of\\n',\n",
       "  'two monitors?\\n',\n",
       "  'wheres the third?\\n',\n",
       "  \"how did you connect the three screens? Does X see all three screens? (ie run 'xrandr' and see what outputs it sees)\\n\",\n",
       "  'oh shit\\n',\n",
       "  \"they do intersect don't they\\n\",\n",
       "  \"that's a fun one ;)\\n\",\n",
       "  'which one is on the right\\n',\n",
       "  'I figured so much!\\n',\n",
       "  'can you pastebin the output of xrandr\\n',\n",
       "  'what error?\\n',\n",
       "  'and from what?\\n',\n",
       "  \"ah, from gnome-control-center's display applet?\\n\",\n",
       "  'what error?\\n']]"
      ]
     },
     "execution_count": 27,
     "metadata": {},
     "output_type": "execute_result"
    }
   ],
   "source": [
    "dialog[1:2]"
   ]
  },
  {
   "cell_type": "markdown",
   "metadata": {},
   "source": [
    "下面的代码按照一定的概率，从正确的应对和随机挑选的应对与当前的上下文进行配对，如果使用的是正确应对，就赋予正样本标注，否则是负样本标注。"
   ]
  },
  {
   "cell_type": "code",
   "execution_count": 28,
   "metadata": {
    "collapsed": true
   },
   "outputs": [],
   "source": [
    "def create_single_dialog_train_example(context_dialog_path, candidate_dialog_paths, rng, positive_probability,\n",
    "                                       minimum_context_length=2,max_context_length=20):\n",
    "\n",
    "    dialog = translate_dialog_to_lists(context_dialog_path)\n",
    "    context_str, next_utterance_ix = create_random_context(dialog, rng,\n",
    "                                                           minimum_context_length=minimum_context_length,\n",
    "                                                           max_context_length=max_context_length)\n",
    "\n",
    "    if positive_probability > rng.random():\n",
    "        # use the next utterance as positive example\n",
    "        response = singe_user_utterances_to_string(dialog[next_utterance_ix])\n",
    "        label = 1.0\n",
    "    else:\n",
    "        response = get_random_utterances_from_corpus(candidate_dialog_paths,rng,1,\n",
    "                                                     min_turn=minimum_context_length+1,\n",
    "                                                     max_turn=max_context_length)[0]\n",
    "        label = 0.0\n",
    "    return context_str, response, label"
   ]
  },
  {
   "cell_type": "code",
   "execution_count": 29,
   "metadata": {
    "collapsed": true
   },
   "outputs": [],
   "source": [
    "def create_random_context(dialog,rng,minimum_context_length=2,max_context_length=20):\n",
    "    max_len = min(max_context_length, len(dialog)) - 2\n",
    "    if max_len <= minimum_context_length:\n",
    "        context_turns = max_len\n",
    "    else:\n",
    "        context_turns = rng.randint(minimum_context_length,max_len)\n",
    "    return dialog_turns_to_string(dialog[:context_turns]),context_turns\n",
    "\n",
    "def singe_user_utterances_to_string(utterances_list):\n",
    "    return \" \".join(map(lambda x: x+\" \"+ end_of_utterance_symbol, utterances_list))"
   ]
  },
  {
   "cell_type": "markdown",
   "metadata": {},
   "source": [
    "当然我们在下面的演示中使用的是将上述过程跑完之后存为一个pickle文件的结果，这是为了保证建模所需的数据跟原有数据尽可能一致。在下面的章节里，我们依次进行如下操作：\n",
    "1. 先载入所需的库\n",
    "2. 展示双编码长短记忆模型的结构\n",
    "3. 在keras中实现这个结构，并拟合模型\n",
    "4. 考察 recall@K 的效果。这个需要对除开最后输出层的其它层进行运算，代码仿造上面关于抽取模型层的介绍。\n",
    "5. 我们会展示基本模型的两个拓展：\n",
    "   1. 双向LSTM\n",
    "   2. Attention 机制"
   ]
  },
  {
   "cell_type": "markdown",
   "metadata": {},
   "source": [
    "首先载入所需的库。"
   ]
  },
  {
   "cell_type": "code",
   "execution_count": 30,
   "metadata": {
    "collapsed": true
   },
   "outputs": [],
   "source": [
    "import pickle\n",
    "\n",
    "import keras\n",
    "from keras.models import Sequential, Model\n",
    "from keras.layers import Input, Dense, Activation, Dropout, Embedding, Reshape, Dot, Concatenate, Multiply, Merge, Bidirectional\n",
    "from keras.layers import LSTM\n",
    "from keras.optimizers import RMSprop\n",
    "from keras.utils.data_utils import get_file\n",
    "from keras.preprocessing.sequence import pad_sequences\n",
    "from keras.models import model_from_json\n",
    "\n",
    "from sklearn.preprocessing import MinMaxScaler"
   ]
  },
  {
   "cell_type": "markdown",
   "metadata": {},
   "source": [
    "读入数据。这里我们直接读入二进制的pickle文件。"
   ]
  },
  {
   "cell_type": "code",
   "execution_count": 31,
   "metadata": {},
   "outputs": [
    {
     "name": "stdout",
     "output_type": "stream",
     "text": [
      "Wall time: 15.3 s\n"
     ]
    }
   ],
   "source": [
    "%%time\n",
    "with open(\"./data/dataset_1MM/dataset.pkl\", \"rb\") as f:\n",
    "    data = pickle.load(f)"
   ]
  },
  {
   "cell_type": "markdown",
   "metadata": {},
   "source": [
    "看看数据里都是什么"
   ]
  },
  {
   "cell_type": "code",
   "execution_count": 32,
   "metadata": {},
   "outputs": [
    {
     "name": "stdout",
     "output_type": "stream",
     "text": [
      "======= 0\n",
      "y\n",
      "c\n",
      "r\n",
      "======= 1\n",
      "y\n",
      "c\n",
      "r\n",
      "======= 2\n",
      "y\n",
      "c\n",
      "r\n"
     ]
    }
   ],
   "source": [
    "for j in range(len(data)):\n",
    "    print(\"======= %s\" % j)\n",
    "    for i, k in enumerate(data[j]):\n",
    "        print(k)"
   ]
  },
  {
   "cell_type": "code",
   "execution_count": 33,
   "metadata": {},
   "outputs": [
    {
     "data": {
      "text/plain": [
       "array([list([30732]),\n",
       "       list([98971, 107411, 31729, 68782, 13159, 61319, 140905, 96690, 25464, 98971, 3718, 129994, 91830, 33603, 61319, 70208, 39897, 99600, 70250, 61319, 132630, 70208])], dtype=object)"
      ]
     },
     "execution_count": 33,
     "metadata": {},
     "output_type": "execute_result"
    }
   ],
   "source": [
    "np.array(data[0]['r'][:2])"
   ]
  },
  {
   "cell_type": "code",
   "execution_count": 34,
   "metadata": {},
   "outputs": [
    {
     "data": {
      "text/plain": [
       "150"
      ]
     },
     "execution_count": 34,
     "metadata": {},
     "output_type": "execute_result"
    }
   ],
   "source": [
    "import gc\n",
    "gc.collect()"
   ]
  },
  {
   "cell_type": "markdown",
   "metadata": {},
   "source": [
    "这里分析最长的句子的长度"
   ]
  },
  {
   "cell_type": "code",
   "execution_count": 35,
   "metadata": {},
   "outputs": [
    {
     "name": "stdout",
     "output_type": "stream",
     "text": [
      "2002\n",
      "939\n"
     ]
    }
   ],
   "source": [
    "# 这里分析最长的句子的长度\n",
    "length=map(len, data[0]['c'])\n",
    "res=list(length)\n",
    "context_length=np.max(res[:])\n",
    "print(context_length)\n",
    "\n",
    "length=map(len, data[0]['r'])\n",
    "res=list(length)\n",
    "response_length=np.max(res[:])\n",
    "print(response_length)"
   ]
  },
  {
   "cell_type": "markdown",
   "metadata": {},
   "source": [
    "这里分析整个词典的大小"
   ]
  },
  {
   "cell_type": "code",
   "execution_count": 36,
   "metadata": {},
   "outputs": [
    {
     "name": "stdout",
     "output_type": "stream",
     "text": [
      "Context Max Id: 144952\n",
      "Response Max Id: 144952\n",
      "Wall time: 3.23 s\n"
     ]
    }
   ],
   "source": [
    "%%time\n",
    "\n",
    "# 这里分析整个词典的大小\n",
    "context_size = np.max(list(map(lambda x:  max(x) if len(x)>0 else 0, data[0]['c'])))\n",
    "print(\"Context Max Id: %s\" % context_size)\n",
    "\n",
    "response_size = max(list(map(lambda x:  max(x) if len(x)>0 else 0, data[0]['r'])))\n",
    "print(\"Response Max Id: %s\" % response_size)"
   ]
  },
  {
   "cell_type": "markdown",
   "metadata": {},
   "source": [
    "我们来看看双编码长短记忆模型的结构：\n",
    "![DualEncoderLSTM](./images/DualEncoderLSTM.png)\n",
    "\n",
    "在这里，encoder和decoder都是LSTM里通常的意思。但是在实际建模的时候，分析师通常有两种选择，一种是直接对原始索引下标所代表的原始数据空间进行编码解码的工作，另外更常见的是先做嵌入，将建模的维度大大缩小以后再纳入LSTM进行训练。在这里显然先进行嵌入是一个明智的选择，因为原始空间的维度超过14万。"
   ]
  },
  {
   "cell_type": "markdown",
   "metadata": {},
   "source": [
    "现在我们对上述模型编写代码。在keras里，针对这种非顺序的结构，一般采用范式模型（Model）对象。"
   ]
  },
  {
   "cell_type": "code",
   "execution_count": 37,
   "metadata": {},
   "outputs": [
    {
     "name": "stdout",
     "output_type": "stream",
     "text": [
      "Begin Modeling...\n",
      "Finish compiling...\n",
      "__________________________________________________________________________________________________\n",
      "Layer (type)                    Output Shape         Param #     Connected to                     \n",
      "==================================================================================================\n",
      "context_input (InputLayer)      (None, 120)          0                                            \n",
      "__________________________________________________________________________________________________\n",
      "response_input (InputLayer)     (None, 120)          0                                            \n",
      "__________________________________________________________________________________________________\n",
      "context_embedding (Embedding)   (None, 120, 64)      9276928     context_input[0][0]              \n",
      "__________________________________________________________________________________________________\n",
      "response_embedding (Embedding)  (None, 120, 64)      9276928     response_input[0][0]             \n",
      "__________________________________________________________________________________________________\n",
      "context_lst (LSTM)              (None, 64)           33024       context_embedding[0][0]          \n",
      "__________________________________________________________________________________________________\n",
      "response_lstm (LSTM)            (None, 64)           33024       response_embedding[0][0]         \n",
      "__________________________________________________________________________________________________\n",
      "Merged (Dot)                    (None, 1)            0           context_lst[0][0]                \n",
      "                                                                 response_lstm[0][0]              \n",
      "__________________________________________________________________________________________________\n",
      "output (Dense)                  (None, 2)            4           Merged[0][0]                     \n",
      "==================================================================================================\n",
      "Total params: 18,619,908\n",
      "Trainable params: 18,619,908\n",
      "Non-trainable params: 0\n",
      "__________________________________________________________________________________________________\n"
     ]
    }
   ],
   "source": [
    "embedding_dim=64\n",
    "lstm_dim=64\n",
    "\n",
    "context_length=np.max(list(map(len, data[0]['c'])))\n",
    "#print(context_length)\n",
    "response_length=np.max(list( map(len, data[0]['r'])))\n",
    "#print(response_length)\n",
    "context_length=120\n",
    "\n",
    "\n",
    "Y = data[0]['r']\n",
    "\n",
    "print('Begin Modeling...')\n",
    "\n",
    "context_size = np.max(list(map(lambda x:  max(x) if len(x)>0 else 0, data[0]['c'])))\n",
    "response_size = max(list(map(lambda x:  max(x) if len(x)>0 else 0, data[0]['r'])))\n",
    "volcabulary_size=max(context_size, response_size)\n",
    "\n",
    "\n",
    "# 对上下文部分进行嵌入和建模\n",
    "context=Input(shape=((context_length,)), name='context_input')\n",
    "context_embedded=Embedding(input_length=context_length, output_dim=embedding_dim, \n",
    "                           input_dim=volcabulary_size, name='context_embedding')(context)\n",
    "context_lstm=LSTM(lstm_dim, name='context_lst')(context_embedded)\n",
    "\n",
    "# 对回应部分进行嵌入和建模\n",
    "response_length=120\n",
    "response=Input(shape=((response_length,)), name='response_input')\n",
    "response_embedded=Embedding(input_length=response_length, output_dim=embedding_dim, \n",
    "                            input_dim=volcabulary_size, name='response_embedding')(response)\n",
    "response_lstm=LSTM(lstm_dim, name='response_lstm')(response_embedded)\n",
    "\n",
    "x = Dot([1, 1], name='Merged')([context_lstm, response_lstm])\n",
    "yhat = Dense(2, activation='softmax', name='output')(x)\n",
    "\n",
    "model = Model(inputs=[context, response], outputs=yhat)\n",
    "model.compile(optimizer='rmsprop',\n",
    "              loss='binary_crossentropy',\n",
    "              metrics=['accuracy'])\n",
    "print('Finish compiling...')\n",
    "model.summary()"
   ]
  },
  {
   "cell_type": "code",
   "execution_count": 38,
   "metadata": {
    "collapsed": true
   },
   "outputs": [],
   "source": [
    "# 针对该数据定制的generator。一般应该将三个部分分离以后再编制generator\n",
    "\n",
    "def data_gen(data, batch_size=100):    \n",
    "    contextRaw = data['c']\n",
    "    responseRaw = data['r']\n",
    "    yRaw = data['y']\n",
    "    \n",
    "    number_of_batches = len(contextRaw) // batch_size \n",
    "    counter=0\n",
    "    \n",
    "    #context_length=np.max(list(map(len, contextRaw)))//3    \n",
    "    #response_length=np.max(list( map(len, responseRaw)))//3\n",
    "    index = np.arange(len(data['c']))\n",
    "    np.random.shuffle(index)\n",
    "    \n",
    "    context_length=120\n",
    "    response_length=120\n",
    "\n",
    "    while 1:        \n",
    "        lowerBound = batch_size*counter\n",
    "        upperBound = batch_size*(counter+1)\n",
    "        #这里应该对一个shuffle过后的随机index进行索引，处于简化目的，这里没有展现。\n",
    "        Ctemp = [contextRaw[j] for j in index[lowerBound : upperBound]]\n",
    "        C_batch = pad_sequences(Ctemp, maxlen=context_length, padding='post')\n",
    "        C_res = np.zeros((batch_size, context_length), dtype=np.int)\n",
    "        \n",
    "        Rtemp = [responseRaw[j] for j in index[lowerBound : upperBound]]\n",
    "        R_batch = pad_sequences(Rtemp, maxlen=response_length, padding='post')\n",
    "        R_res = np.zeros((batch_size, response_length), dtype=np.int)\n",
    "        for k in np.arange(batch_size):\n",
    "            C_res[k, :] = C_batch[k, :]\n",
    "            R_res[k, :] = R_batch[k, :]\n",
    "        y_res= keras.utils.to_categorical(yRaw[lowerBound : upperBound])\n",
    "        counter += 1\n",
    "        yield([C_res.astype('float32'), R_res.astype('float32')], y_res.astype('float32'))\n",
    "        if (counter < number_of_batches):            \n",
    "            counter=0                          "
   ]
  },
  {
   "cell_type": "markdown",
   "metadata": {},
   "source": [
    "下面训练这个模型。在8GB显存的GTX 1070上，小批量的大小根据补齐的长度，不宜超过400。读者有时间可以试试多次迭代，看看效果。"
   ]
  },
  {
   "cell_type": "code",
   "execution_count": 39,
   "metadata": {},
   "outputs": [
    {
     "name": "stdout",
     "output_type": "stream",
     "text": [
      "Epoch 1/5\n",
      "2604/2604 [==============================] - 747s 287ms/step - loss: 0.0122 - acc: 0.9957 - val_loss: 5.0037 - val_acc: 0.6800\n",
      "Epoch 2/5\n",
      "2604/2604 [==============================] - 746s 287ms/step - loss: 1.0960e-07 - acc: 1.0000 - val_loss: 5.0037 - val_acc: 0.6800\n",
      "Epoch 3/5\n",
      "2604/2604 [==============================] - 748s 287ms/step - loss: 1.0960e-07 - acc: 1.0000 - val_loss: 5.0037 - val_acc: 0.6800\n",
      "Epoch 4/5\n",
      "2604/2604 [==============================] - 749s 288ms/step - loss: 1.0960e-07 - acc: 1.0000 - val_loss: 5.0037 - val_acc: 0.6800\n",
      "Epoch 5/5\n",
      "2604/2604 [==============================] - 749s 288ms/step - loss: 1.0960e-07 - acc: 1.0000 - val_loss: 5.0037 - val_acc: 0.6800\n",
      "Wall time: 1h 2min 21s\n"
     ]
    }
   ],
   "source": [
    "%%time\n",
    "batch_size=384\n",
    "model.fit_generator(data_gen(data[0], batch_size=batch_size), \n",
    "                    steps_per_epoch=len(data[0]['c'])//batch_size,\n",
    "                    validation_data = data_gen(data[1]),\n",
    "                    validation_steps = len(data[1]['c'])//batch_size,\n",
    "                    epochs=5)"
   ]
  },
  {
   "cell_type": "markdown",
   "metadata": {},
   "source": [
    "下面我们将模型存入磁盘。我们也可以在拟合过程中使用***ModelCheckPoint***选项将每一步的结果都分别存入一个磁盘文件中。如果要使用***ModelCheckPoint***，可以通过**callback**选项在拟合阶段引入：\n",
    "\n",
    "<code>\n",
    "wgt_file = './data/model_weights.hdf5'\n",
    "checkpointer = ModelCheckpoint(filepath=wgt_file, verbose=1, save_best_only=False)\n",
    "modelHist =model.fit(X_train, y_train_ohe, validation_data = (X_test, y_test_ohe), \n",
    "                                epochs = 10, batch_size = 128, callbacks=[checkpointer])\n",
    "</code>"
   ]
  },
  {
   "cell_type": "code",
   "execution_count": 40,
   "metadata": {},
   "outputs": [
    {
     "name": "stdout",
     "output_type": "stream",
     "text": [
      "模型已经写入磁盘\n"
     ]
    }
   ],
   "source": [
    "# 将模型结构存为JSON格式\n",
    "model_json = model.to_json()\n",
    "with open(\"./data/dual_lstm_model.json\", \"w\") as json_file:\n",
    "    json_file.write(model_json)\n",
    "# 将模型拟合得到的权重存入HDF5文件中\n",
    "model.save_weights(\"./data/dual_lstm_model.h5\")\n",
    "print(\"模型已经写入磁盘\") "
   ]
  },
  {
   "cell_type": "code",
   "execution_count": 41,
   "metadata": {},
   "outputs": [
    {
     "name": "stdout",
     "output_type": "stream",
     "text": [
      "载入模型完毕\n",
      "模型编译完毕...\n"
     ]
    }
   ],
   "source": [
    "# 如果要调用已有模型，可以通过如下方法\n",
    "\n",
    "# 从磁盘载入模型结构\n",
    "json_file = open('./data/dual_lstm_model.json', 'r')\n",
    "loaded_model_json = json_file.read()\n",
    "json_file.close()\n",
    "model = model_from_json(loaded_model_json)\n",
    "# 从磁盘读入模型权重\n",
    "model.load_weights(\"./data/dual_lstm_model.h5\")\n",
    "print(\"载入模型完毕\")\n",
    "model.compile(optimizer='rmsprop',\n",
    "              loss='binary_crossentropy',\n",
    "              metrics=['accuracy'])\n",
    "print('模型编译完毕...')"
   ]
  },
  {
   "cell_type": "markdown",
   "metadata": {},
   "source": [
    "下面进行预测。输入数据的组织形式应该遵循data generator里面的数据处理和输出组织形式，但是我们可以通过predict_generator方法直接引用现有的data generator，只是用在测试集，而不是训练集上。"
   ]
  },
  {
   "cell_type": "code",
   "execution_count": 42,
   "metadata": {},
   "outputs": [
    {
     "name": "stdout",
     "output_type": "stream",
     "text": [
      "1387/1387 [==============================] - 59s 42ms/step\n"
     ]
    }
   ],
   "source": [
    "batch_size=256\n",
    "ypred = model.predict_generator( data_gen(data[2], batch_size=batch_size), steps=(len(data[2]['c'])//batch_size), verbose=1)"
   ]
  },
  {
   "cell_type": "code",
   "execution_count": 43,
   "metadata": {},
   "outputs": [
    {
     "data": {
      "text/plain": [
       "0.66094200612833454"
      ]
     },
     "execution_count": 43,
     "metadata": {},
     "output_type": "execute_result"
    }
   ],
   "source": [
    "yTest = data[1]['y']\n",
    "\n",
    "ypred2=(2-(ypred[:,0]>ypred[:,1]))-1\n",
    "z = [str(ypred2[i])==yTest[i] for i in range(len(ypred2))]\n",
    "np.mean(z)"
   ]
  },
  {
   "cell_type": "markdown",
   "metadata": {},
   "source": [
    "在keras中引入bidirectional LSTM也比较容易，直接套用Bidirectional网络层到原有的LSTM上即可：\n",
    "<code>\n",
    "context_lstm=LSTM(lstm_dim, name='context_lst')(context_embedded)\n",
    "context_bilstm = Bidirectional(context_lstm, name='context_bilstm')\n",
    "</code>"
   ]
  },
  {
   "cell_type": "code",
   "execution_count": 44,
   "metadata": {},
   "outputs": [
    {
     "name": "stdout",
     "output_type": "stream",
     "text": [
      "Begin Modeling...\n",
      "Finish compiling...\n",
      "__________________________________________________________________________________________________\n",
      "Layer (type)                    Output Shape         Param #     Connected to                     \n",
      "==================================================================================================\n",
      "context_input (InputLayer)      (None, 120)          0                                            \n",
      "__________________________________________________________________________________________________\n",
      "response_input (InputLayer)     (None, 120)          0                                            \n",
      "__________________________________________________________________________________________________\n",
      "context_embedding (Embedding)   (None, 120, 64)      9276928     context_input[0][0]              \n",
      "__________________________________________________________________________________________________\n",
      "response_embedding (Embedding)  (None, 120, 64)      9276928     response_input[0][0]             \n",
      "__________________________________________________________________________________________________\n",
      "bidirectional_1 (Bidirectional) (None, 128)          66048       context_embedding[0][0]          \n",
      "__________________________________________________________________________________________________\n",
      "bidirectional_2 (Bidirectional) (None, 128)          66048       response_embedding[0][0]         \n",
      "__________________________________________________________________________________________________\n",
      "Merged (Dot)                    (None, 1)            0           bidirectional_1[0][0]            \n",
      "                                                                 bidirectional_2[0][0]            \n",
      "__________________________________________________________________________________________________\n",
      "output (Dense)                  (None, 2)            4           Merged[0][0]                     \n",
      "==================================================================================================\n",
      "Total params: 18,685,956\n",
      "Trainable params: 18,685,956\n",
      "Non-trainable params: 0\n",
      "__________________________________________________________________________________________________\n"
     ]
    }
   ],
   "source": [
    "embedding_dim=64\n",
    "lstm_dim=64\n",
    "\n",
    "context_length=np.max(list(map(len, data[0]['c'])))\n",
    "#print(context_length)\n",
    "response_length=np.max(list( map(len, data[0]['r'])))\n",
    "#print(response_length)\n",
    "\n",
    "Y = data[0]['r']\n",
    "\n",
    "print('Begin Modeling...')\n",
    "\n",
    "context_size = np.max(list(map(lambda x:  max(x) if len(x)>0 else 0, data[0]['c'])))\n",
    "response_size = max(list(map(lambda x:  max(x) if len(x)>0 else 0, data[0]['r'])))\n",
    "volcabulary_size=max(context_size, response_size)\n",
    "\n",
    "context_length=120\n",
    "\n",
    "# 对上下文部分进行嵌入和建模\n",
    "context=Input(shape=((context_length,)), name='context_input')\n",
    "context_embedded=Embedding(input_length=context_length, output_dim=embedding_dim, \n",
    "                           input_dim=volcabulary_size, name='context_embedding')(context)\n",
    "context_bilstm=Bidirectional(LSTM(lstm_dim, name='context_lst'))(context_embedded)\n",
    "\n",
    "\n",
    "# 对回应部分进行嵌入和建模\n",
    "response_length=120\n",
    "response=Input(shape=((response_length,)), name='response_input')\n",
    "response_embedded=Embedding(input_length=response_length, output_dim=embedding_dim, \n",
    "                            input_dim=volcabulary_size, name='response_embedding')(response)\n",
    "response_bilstm=Bidirectional(LSTM(lstm_dim, name='response_lstm'))(response_embedded)\n",
    "\n",
    "#print(response_lstm.outputs)\n",
    "\n",
    "x = Dot([1, 1], name='Merged')([context_bilstm, response_bilstm])\n",
    "#x = Multiply()([context_lstm, response_lstm])\n",
    "yhat = Dense(2, activation='softmax', name='output')(x)\n",
    "\n",
    "model = Model(inputs=[context, response], outputs=yhat)\n",
    "model.compile(optimizer='rmsprop',\n",
    "              loss='binary_crossentropy',\n",
    "              metrics=['accuracy'])\n",
    "print('Finish compiling...')\n",
    "model.summary()"
   ]
  },
  {
   "cell_type": "markdown",
   "metadata": {},
   "source": [
    "### 注意力机制（Attention）\n",
    "注意力机制在keras中可以比较容易地实现：\n",
    "\n",
    "![attention](./images/AttentionBasics.png)\n",
    "\n",
    "该图其实就是说在你需要添加attention的层的时候，给其套一层以softmax为激活函数的全连接层，然后做elementwise的矩阵相乘，即可实现：\n",
    "<code>\n",
    "inputs = Input(shape=(input_dims,))\n",
    "attention_probs = Dense(input_dims, activation='softmax', name='attention_probs')(inputs)\n",
    "attention_mul = Multiply(name='attention_mul')([inputs, attention_probs])\n",
    "</code>\n",
    "\n",
    "原有代码可以在embedding之后添加这个注意力机制。"
   ]
  },
  {
   "cell_type": "code",
   "execution_count": 45,
   "metadata": {},
   "outputs": [
    {
     "name": "stdout",
     "output_type": "stream",
     "text": [
      "Begin Modeling...\n",
      "Finish compiling...\n",
      "__________________________________________________________________________________________________\n",
      "Layer (type)                    Output Shape         Param #     Connected to                     \n",
      "==================================================================================================\n",
      "context_input (InputLayer)      (None, 120)          0                                            \n",
      "__________________________________________________________________________________________________\n",
      "context_embedding (Embedding)   (None, 120, 64)      9276928     context_input[0][0]              \n",
      "__________________________________________________________________________________________________\n",
      "response_input (InputLayer)     (None, 120)          0                                            \n",
      "__________________________________________________________________________________________________\n",
      "context_attention (Dense)       (None, 120, 64)      4160        context_embedding[0][0]          \n",
      "__________________________________________________________________________________________________\n",
      "response_embedding (Embedding)  (None, 120, 64)      9276928     response_input[0][0]             \n",
      "__________________________________________________________________________________________________\n",
      "context_atten_multi (Multiply)  (None, 120, 64)      0           context_embedding[0][0]          \n",
      "                                                                 context_attention[0][0]          \n",
      "__________________________________________________________________________________________________\n",
      "response_attention (Dense)      (None, 120, 64)      4160        response_embedding[0][0]         \n",
      "__________________________________________________________________________________________________\n",
      "context_bilstm (Bidirectional)  (None, 128)          66048       context_atten_multi[0][0]        \n",
      "__________________________________________________________________________________________________\n",
      "response_bilstm (Bidirectional) (None, 128)          66048       response_attention[0][0]         \n",
      "__________________________________________________________________________________________________\n",
      "Merged (Dot)                    (None, 1)            0           context_bilstm[0][0]             \n",
      "                                                                 response_bilstm[0][0]            \n",
      "__________________________________________________________________________________________________\n",
      "output (Dense)                  (None, 2)            4           Merged[0][0]                     \n",
      "==================================================================================================\n",
      "Total params: 18,694,276\n",
      "Trainable params: 18,694,276\n",
      "Non-trainable params: 0\n",
      "__________________________________________________________________________________________________\n"
     ]
    }
   ],
   "source": [
    "embedding_dim=64\n",
    "lstm_dim=64\n",
    "\n",
    "context_length=np.max(list(map(len, data[0]['c'])))\n",
    "#print(context_length)\n",
    "response_length=np.max(list( map(len, data[0]['r'])))\n",
    "#print(response_length)\n",
    "\n",
    "Y = data[0]['r']\n",
    "\n",
    "print('Begin Modeling...')\n",
    "\n",
    "context_size = np.max(list(map(lambda x:  max(x) if len(x)>0 else 0, data[0]['c'])))\n",
    "response_size = max(list(map(lambda x:  max(x) if len(x)>0 else 0, data[0]['r'])))\n",
    "volcabulary_size=max(context_size, response_size)\n",
    "\n",
    "context_length=120\n",
    "\n",
    "# 对上下文部分进行嵌入和建模\n",
    "context=Input(shape=((context_length,)), name='context_input')\n",
    "context_embedded=Embedding(input_length=context_length, output_dim=embedding_dim, \n",
    "                           input_dim=volcabulary_size, name='context_embedding')(context)\n",
    "context_atten = Dense(embedding_dim, activation='softmax', name='context_attention')(context_embedded)\n",
    "context_atten_mul = Multiply(name='context_atten_multi')([context_embedded, context_atten])\n",
    "context_bilstm=Bidirectional(LSTM(lstm_dim, name='context_lstm'), name='context_bilstm')(context_atten_mul)\n",
    "\n",
    "\n",
    "# 对回应部分进行嵌入和建模\n",
    "response_length=120\n",
    "response=Input(shape=((response_length,)), name='response_input')\n",
    "response_embedded=Embedding(input_length=response_length, output_dim=embedding_dim, \n",
    "                            input_dim=volcabulary_size, name='response_embedding')(response)\n",
    "response_atten = Dense(embedding_dim, activation='softmax', name='response_attention')(response_embedded)\n",
    "response_bilstm=Bidirectional(LSTM(lstm_dim, name='response_lstm'), name='response_bilstm')(response_atten)\n",
    "\n",
    "\n",
    "#print(response_lstm.outputs)\n",
    "\n",
    "x = Dot([1, 1], name='Merged')([context_bilstm, response_bilstm])\n",
    "#x = Multiply()([context_lstm, response_lstm])\n",
    "yhat = Dense(2, activation='softmax', name='output')(x)\n",
    "\n",
    "model = Model(inputs=[context, response], outputs=yhat)\n",
    "model.compile(optimizer='rmsprop',\n",
    "              loss='binary_crossentropy',\n",
    "              metrics=['accuracy'])\n",
    "print('Finish compiling...')\n",
    "model.summary()"
   ]
  },
  {
   "cell_type": "markdown",
   "metadata": {},
   "source": [
    "## Reference\n",
    "1. Ryan Lowe, Nissan Pow, Iulian V. Serban and Joelle Pineau, ***\"The Ubuntu Dialogue Corpus: A Large Dataset for Research in Unstructure Multi-Turn Dialogue Systems\"***, SIGDial 2015.\n",
    "2. Minwei Feng, Bing Xiang, Michael R. Glass, Lidan Wang, Bowen Zhou, ***\"Applying Deep Learning to Answer Selection: A Study and An Open Task\"***, ASRU 2015"
   ]
  }
 ],
 "metadata": {
  "kernelspec": {
   "display_name": "Python 3",
   "language": "python",
   "name": "python3"
  },
  "language_info": {
   "codemirror_mode": {
    "name": "ipython",
    "version": 3
   },
   "file_extension": ".py",
   "mimetype": "text/x-python",
   "name": "python",
   "nbconvert_exporter": "python",
   "pygments_lexer": "ipython3",
   "version": "3.6.3"
  }
 },
 "nbformat": 4,
 "nbformat_minor": 2
}
